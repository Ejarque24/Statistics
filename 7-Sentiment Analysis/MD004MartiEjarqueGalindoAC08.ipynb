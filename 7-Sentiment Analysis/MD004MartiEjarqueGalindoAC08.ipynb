{
 "cells": [
  {
   "cell_type": "markdown",
   "id": "27c340cd",
   "metadata": {},
   "source": [
    "# MD004 ENTREGA8 NAIVE BAYES & ANÁLISIS DE SENTIMIENTO\n",
    "\n",
    "\n",
    "###### **Trabajo del Tema 8**\n",
    "\n",
    "**Descripción de la tarea:**\n",
    "\n",
    "El csv adjunto incluye reviews que han dejado usuarios en la Google Play Store en referencia a 23 apps, incluyendo una valoración categórica sobre el análisis de sentimiento. Los datos son los siguientes:\n",
    "\n",
    "- package_name: Nombre de la app\n",
    "- review: Texto del usuario con la review\n",
    "- polarity: Sentimiento de polaridad de la review:\n",
    "    - 1: Review con un sentimiento muy positivo o muy negativo\n",
    "    - 0: Review con un sentimiento neutro (-->realizo una pequeña corrección, el enunciado ponía '2')\n",
    "\n",
    "**Se pide:**\n",
    "\n",
    "## 1. Limpieza de instancias\n"
   ]
  },
  {
   "cell_type": "markdown",
   "id": "620a5881",
   "metadata": {},
   "source": [
    "### <font color='#3d59c6'>  1.1 CARGA DE PACKAGES </font>"
   ]
  },
  {
   "cell_type": "code",
   "execution_count": 497,
   "id": "607e1cb4",
   "metadata": {
    "vscode": {
     "languageId": "r"
    }
   },
   "outputs": [],
   "source": [
    "library(e1071)\n",
    "library(caret)\n",
    "library(tm)\n",
    "library(SnowballC)\n",
    "library(wordcloud)\n",
    "library(gmodels)\n",
    "library(wordcloud)\n",
    "library(hunspell)"
   ]
  },
  {
   "cell_type": "markdown",
   "id": "90fc9a97",
   "metadata": {},
   "source": [
    "### <font color='#3d59c6'>  1.2 CARGA Y COMPRENSIÓN DE DATOS </font>"
   ]
  },
  {
   "cell_type": "code",
   "execution_count": 498,
   "id": "f82471c5",
   "metadata": {
    "vscode": {
     "languageId": "r"
    }
   },
   "outputs": [
    {
     "data": {
      "text/html": [
       "<table>\n",
       "<thead><tr><th scope=col>package_name</th><th scope=col>review</th><th scope=col>polarity</th></tr></thead>\n",
       "<tbody>\n",
       "\t<tr><td>com.facebook.katana                                                                                                                                                                                                                                                                                                                                                                                                                                                               </td><td> privacy at least put some option appear offline. i mean for some people like me it's a big pressure to be seen online like you need to response on every message or else you be called seenzone only. if only i wanna do on facebook is to read on my newsfeed and just wanna response on message i want to. pls reconsidered my review. i tried to turn off chat but still can see me as online.                                                                                </td><td>0                                                                                                                                                                                                                                                                                                                                                                                                                                                                                 </td></tr>\n",
       "\t<tr><td>com.facebook.katana                                                                                                                                                                                                                                                                                                                                                                                                                                                               </td><td> messenger issues ever since the last update, initial received messages don't get pushed to the messenger app and you don't get notification in the facebook app or messenger app. you open the facebook app and happen to see you have a message. you have to click the icon and it opens messenger. subsequent messages go through messenger app, unless you close the chat head... then you start over with no notification and having to go through the facebook app.         </td><td>0                                                                                                                                                                                                                                                                                                                                                                                                                                                                                 </td></tr>\n",
       "\t<tr><td>com.facebook.katana                                                                                                                                                                                                                                                                                                                                                                                                                                                               </td><td> profile any time my wife or anybody has more than one post and i view them it would take me to there profile so that i can view them all at once. now when i try to view them it tells me that the page that i requested is not available. i've restarted my phone i even cleard the cache and i've uninstalled and reinstalled the app and it is still doing it. please fix it thank you                                                                                        </td><td>0                                                                                                                                                                                                                                                                                                                                                                                                                                                                                 </td></tr>\n",
       "\t<tr><td>com.facebook.katana                                                                                                                                                                                                                                                                                                                                                                                                                                                               </td><td> the new features suck for those of us who don't have a working back button can you guys make the videos able to be slid to the left to exit the video. as i have to force close facebook to exit                                                                                                                                                                                                                                                                                 </td><td>0                                                                                                                                                                                                                                                                                                                                                                                                                                                                                 </td></tr>\n",
       "\t<tr><td>com.facebook.katana                                                                                                                                                                                                                                                                                                                                                                                                                                                               </td><td> forced reload on uploading pic on replying comment last night i tried to reply a comment by uploading a photo from my phone. when i press on the button to select photos the app automatically goes back to the main page. on other occasions, i could enter to my gallery to select my image but as soon as i selected an image and press done, the program, again, forced reload and suddenly go back to the main page. please fix this and i will change my rating. thank you.</td><td>0                                                                                                                                                                                                                                                                                                                                                                                                                                                                                 </td></tr>\n",
       "\t<tr><td>com.facebook.katana                                                                                                                                                                                                                                                                                                                                                                                                                                                               </td><td> idk i can't edit my posts? things such as my profile picture, when i edit it, it becomes grey and says that it is no longer available. please fix. i have an htc desire. will rate 5 stars shown fixed đ                                                                                                                                                                                                                                                       </td><td>0                                                                                                                                                                                                                                                                                                                                                                                                                                                                                 </td></tr>\n",
       "</tbody>\n",
       "</table>\n"
      ],
      "text/latex": [
       "\\begin{tabular}{r|lll}\n",
       " package\\_name & review & polarity\\\\\n",
       "\\hline\n",
       "\t com.facebook.katana                                                                                                                                                                                                                                                                                                                                                                                                                                                                &  privacy at least put some option appear offline. i mean for some people like me it's a big pressure to be seen online like you need to response on every message or else you be called seenzone only. if only i wanna do on facebook is to read on my newsfeed and just wanna response on message i want to. pls reconsidered my review. i tried to turn off chat but still can see me as online.                                                                                 & 0                                                                                                                                                                                                                                                                                                                                                                                                                                                                                 \\\\\n",
       "\t com.facebook.katana                                                                                                                                                                                                                                                                                                                                                                                                                                                                &  messenger issues ever since the last update, initial received messages don't get pushed to the messenger app and you don't get notification in the facebook app or messenger app. you open the facebook app and happen to see you have a message. you have to click the icon and it opens messenger. subsequent messages go through messenger app, unless you close the chat head... then you start over with no notification and having to go through the facebook app.          & 0                                                                                                                                                                                                                                                                                                                                                                                                                                                                                 \\\\\n",
       "\t com.facebook.katana                                                                                                                                                                                                                                                                                                                                                                                                                                                                &  profile any time my wife or anybody has more than one post and i view them it would take me to there profile so that i can view them all at once. now when i try to view them it tells me that the page that i requested is not available. i've restarted my phone i even cleard the cache and i've uninstalled and reinstalled the app and it is still doing it. please fix it thank you                                                                                         & 0                                                                                                                                                                                                                                                                                                                                                                                                                                                                                 \\\\\n",
       "\t com.facebook.katana                                                                                                                                                                                                                                                                                                                                                                                                                                                                &  the new features suck for those of us who don't have a working back button can you guys make the videos able to be slid to the left to exit the video. as i have to force close facebook to exit                                                                                                                                                                                                                                                                                  & 0                                                                                                                                                                                                                                                                                                                                                                                                                                                                                 \\\\\n",
       "\t com.facebook.katana                                                                                                                                                                                                                                                                                                                                                                                                                                                                &  forced reload on uploading pic on replying comment last night i tried to reply a comment by uploading a photo from my phone. when i press on the button to select photos the app automatically goes back to the main page. on other occasions, i could enter to my gallery to select my image but as soon as i selected an image and press done, the program, again, forced reload and suddenly go back to the main page. please fix this and i will change my rating. thank you. & 0                                                                                                                                                                                                                                                                                                                                                                                                                                                                                 \\\\\n",
       "\t com.facebook.katana                                                                                                                                                                                                                                                                                                                                                                                                                                                                &  idk i can't edit my posts? things such as my profile picture, when i edit it, it becomes grey and says that it is no longer available. please fix. i have an htc desire. will rate 5 stars shown fixed đ                                                                                                                                                                                                                                                        & 0                                                                                                                                                                                                                                                                                                                                                                                                                                                                                 \\\\\n",
       "\\end{tabular}\n"
      ],
      "text/markdown": [
       "\n",
       "| package_name | review | polarity |\n",
       "|---|---|---|\n",
       "| com.facebook.katana                                                                                                                                                                                                                                                                                                                                                                                                                                                                |  privacy at least put some option appear offline. i mean for some people like me it's a big pressure to be seen online like you need to response on every message or else you be called seenzone only. if only i wanna do on facebook is to read on my newsfeed and just wanna response on message i want to. pls reconsidered my review. i tried to turn off chat but still can see me as online.                                                                                 | 0                                                                                                                                                                                                                                                                                                                                                                                                                                                                                  |\n",
       "| com.facebook.katana                                                                                                                                                                                                                                                                                                                                                                                                                                                                |  messenger issues ever since the last update, initial received messages don't get pushed to the messenger app and you don't get notification in the facebook app or messenger app. you open the facebook app and happen to see you have a message. you have to click the icon and it opens messenger. subsequent messages go through messenger app, unless you close the chat head... then you start over with no notification and having to go through the facebook app.          | 0                                                                                                                                                                                                                                                                                                                                                                                                                                                                                  |\n",
       "| com.facebook.katana                                                                                                                                                                                                                                                                                                                                                                                                                                                                |  profile any time my wife or anybody has more than one post and i view them it would take me to there profile so that i can view them all at once. now when i try to view them it tells me that the page that i requested is not available. i've restarted my phone i even cleard the cache and i've uninstalled and reinstalled the app and it is still doing it. please fix it thank you                                                                                         | 0                                                                                                                                                                                                                                                                                                                                                                                                                                                                                  |\n",
       "| com.facebook.katana                                                                                                                                                                                                                                                                                                                                                                                                                                                                |  the new features suck for those of us who don't have a working back button can you guys make the videos able to be slid to the left to exit the video. as i have to force close facebook to exit                                                                                                                                                                                                                                                                                  | 0                                                                                                                                                                                                                                                                                                                                                                                                                                                                                  |\n",
       "| com.facebook.katana                                                                                                                                                                                                                                                                                                                                                                                                                                                                |  forced reload on uploading pic on replying comment last night i tried to reply a comment by uploading a photo from my phone. when i press on the button to select photos the app automatically goes back to the main page. on other occasions, i could enter to my gallery to select my image but as soon as i selected an image and press done, the program, again, forced reload and suddenly go back to the main page. please fix this and i will change my rating. thank you. | 0                                                                                                                                                                                                                                                                                                                                                                                                                                                                                  |\n",
       "| com.facebook.katana                                                                                                                                                                                                                                                                                                                                                                                                                                                                |  idk i can't edit my posts? things such as my profile picture, when i edit it, it becomes grey and says that it is no longer available. please fix. i have an htc desire. will rate 5 stars shown fixed đ                                                                                                                                                                                                                                                        | 0                                                                                                                                                                                                                                                                                                                                                                                                                                                                                  |\n",
       "\n"
      ],
      "text/plain": [
       "  package_name       \n",
       "1 com.facebook.katana\n",
       "2 com.facebook.katana\n",
       "3 com.facebook.katana\n",
       "4 com.facebook.katana\n",
       "5 com.facebook.katana\n",
       "6 com.facebook.katana\n",
       "  review                                                                                                                                                                                                                                                                                                                                                                                                                                                                            \n",
       "1  privacy at least put some option appear offline. i mean for some people like me it's a big pressure to be seen online like you need to response on every message or else you be called seenzone only. if only i wanna do on facebook is to read on my newsfeed and just wanna response on message i want to. pls reconsidered my review. i tried to turn off chat but still can see me as online.                                                                                \n",
       "2  messenger issues ever since the last update, initial received messages don't get pushed to the messenger app and you don't get notification in the facebook app or messenger app. you open the facebook app and happen to see you have a message. you have to click the icon and it opens messenger. subsequent messages go through messenger app, unless you close the chat head... then you start over with no notification and having to go through the facebook app.         \n",
       "3  profile any time my wife or anybody has more than one post and i view them it would take me to there profile so that i can view them all at once. now when i try to view them it tells me that the page that i requested is not available. i've restarted my phone i even cleard the cache and i've uninstalled and reinstalled the app and it is still doing it. please fix it thank you                                                                                        \n",
       "4  the new features suck for those of us who don't have a working back button can you guys make the videos able to be slid to the left to exit the video. as i have to force close facebook to exit                                                                                                                                                                                                                                                                                 \n",
       "5  forced reload on uploading pic on replying comment last night i tried to reply a comment by uploading a photo from my phone. when i press on the button to select photos the app automatically goes back to the main page. on other occasions, i could enter to my gallery to select my image but as soon as i selected an image and press done, the program, again, forced reload and suddenly go back to the main page. please fix this and i will change my rating. thank you.\n",
       "6  idk i can't edit my posts? things such as my profile picture, when i edit it, it becomes grey and says that it is no longer available. please fix. i have an htc desire. will rate 5 stars shown fixed đ\\u009f\\u0098\\u0094                                                                                                                                                                                                                                                       \n",
       "  polarity\n",
       "1 0       \n",
       "2 0       \n",
       "3 0       \n",
       "4 0       \n",
       "5 0       \n",
       "6 0       "
      ]
     },
     "metadata": {},
     "output_type": "display_data"
    },
    {
     "data": {
      "text/html": [
       "<table>\n",
       "<thead><tr><th></th><th scope=col>package_name</th><th scope=col>review</th><th scope=col>polarity</th></tr></thead>\n",
       "<tbody>\n",
       "\t<tr><th scope=row>886</th><td>com.rovio.angrybirds                                                                                                                                                                                                                                                                                                                                                                                                             </td><td> too many ads far more adverts than any other game i've played. i know it's free and they need the ads to make a profit but there needs to be a balance.                                                                                                                                                                                                                                                                         </td><td>1                                                                                                                                                                                                                                                                                                                                                                                                                                </td></tr>\n",
       "\t<tr><th scope=row>887</th><td>com.rovio.angrybirds                                                                                                                                                                                                                                                                                                                                                                                                             </td><td> loved it i loooooooooooooovvved it because it is incredible  awesome  and it's in go power and make a new clash of clans the same thing  butt better                                                                                                                                                                                                                                                                            </td><td>1                                                                                                                                                                                                                                                                                                                                                                                                                                </td></tr>\n",
       "\t<tr><th scope=row>888</th><td>com.rovio.angrybirds                                                                                                                                                                                                                                                                                                                                                                                                             </td><td> all time legendary game the birthday party levels and short fuse levels are fantastic.especially when the pigs crash onto different chemicals is just great.suggestion to all those players who cringe about too much ads is close ur wi-fi connection and then play the game.then the ads won't trouble you.                                                                                                                   </td><td>1                                                                                                                                                                                                                                                                                                                                                                                                                                </td></tr>\n",
       "\t<tr><th scope=row>889</th><td>com.rovio.angrybirds                                                                                                                                                                                                                                                                                                                                                                                                             </td><td> ads are way to heavy listen to the bad reviews. there are ads after every round, whether you pass it or fail it. sometimes there are ads before the next round starts to. you spend more time on ads than game play. i develop web apps, and honestly many people rely on ads to make a living. i can appreciate that all to well. however, these developers have went far beyond that. frankly, they are disrespectful nitwits.</td><td>0                                                                                                                                                                                                                                                                                                                                                                                                                                </td></tr>\n",
       "\t<tr><th scope=row>890</th><td>com.rovio.angrybirds                                                                                                                                                                                                                                                                                                                                                                                                             </td><td> fun works perfectly well. ads aren't as annoying as you think, especially for a free game.                                                                                                                                                                                                                                                                                                                                      </td><td>1                                                                                                                                                                                                                                                                                                                                                                                                                                </td></tr>\n",
       "\t<tr><th scope=row>891</th><td>com.rovio.angrybirds                                                                                                                                                                                                                                                                                                                                                                                                             </td><td> they're everywhere i see angry birds everywhere because i can't stop playing this game. get out my head devs! 4 đ because nothing's perfect                                                                                                                                                                                                                                                                   </td><td>1                                                                                                                                                                                                                                                                                                                                                                                                                                </td></tr>\n",
       "</tbody>\n",
       "</table>\n"
      ],
      "text/latex": [
       "\\begin{tabular}{r|lll}\n",
       "  & package\\_name & review & polarity\\\\\n",
       "\\hline\n",
       "\t886 & com.rovio.angrybirds                                                                                                                                                                                                                                                                                                                                                                                                              &  too many ads far more adverts than any other game i've played. i know it's free and they need the ads to make a profit but there needs to be a balance.                                                                                                                                                                                                                                                                          & 1                                                                                                                                                                                                                                                                                                                                                                                                                                \\\\\n",
       "\t887 & com.rovio.angrybirds                                                                                                                                                                                                                                                                                                                                                                                                              &  loved it i loooooooooooooovvved it because it is incredible  awesome  and it's in go power and make a new clash of clans the same thing  butt better                                                                                                                                                                                                                                                                             & 1                                                                                                                                                                                                                                                                                                                                                                                                                                \\\\\n",
       "\t888 & com.rovio.angrybirds                                                                                                                                                                                                                                                                                                                                                                                                              &  all time legendary game the birthday party levels and short fuse levels are fantastic.especially when the pigs crash onto different chemicals is just great.suggestion to all those players who cringe about too much ads is close ur wi-fi connection and then play the game.then the ads won't trouble you.                                                                                                                    & 1                                                                                                                                                                                                                                                                                                                                                                                                                                \\\\\n",
       "\t889 & com.rovio.angrybirds                                                                                                                                                                                                                                                                                                                                                                                                              &  ads are way to heavy listen to the bad reviews. there are ads after every round, whether you pass it or fail it. sometimes there are ads before the next round starts to. you spend more time on ads than game play. i develop web apps, and honestly many people rely on ads to make a living. i can appreciate that all to well. however, these developers have went far beyond that. frankly, they are disrespectful nitwits. & 0                                                                                                                                                                                                                                                                                                                                                                                                                                \\\\\n",
       "\t890 & com.rovio.angrybirds                                                                                                                                                                                                                                                                                                                                                                                                              &  fun works perfectly well. ads aren't as annoying as you think, especially for a free game.                                                                                                                                                                                                                                                                                                                                       & 1                                                                                                                                                                                                                                                                                                                                                                                                                                \\\\\n",
       "\t891 & com.rovio.angrybirds                                                                                                                                                                                                                                                                                                                                                                                                              &  they're everywhere i see angry birds everywhere because i can't stop playing this game. get out my head devs! 4 đ because nothing's perfect                                                                                                                                                                                                                                                                    & 1                                                                                                                                                                                                                                                                                                                                                                                                                                \\\\\n",
       "\\end{tabular}\n"
      ],
      "text/markdown": [
       "\n",
       "| <!--/--> | package_name | review | polarity |\n",
       "|---|---|---|---|\n",
       "| 886 | com.rovio.angrybirds                                                                                                                                                                                                                                                                                                                                                                                                              |  too many ads far more adverts than any other game i've played. i know it's free and they need the ads to make a profit but there needs to be a balance.                                                                                                                                                                                                                                                                          | 1                                                                                                                                                                                                                                                                                                                                                                                                                                 |\n",
       "| 887 | com.rovio.angrybirds                                                                                                                                                                                                                                                                                                                                                                                                              |  loved it i loooooooooooooovvved it because it is incredible  awesome  and it's in go power and make a new clash of clans the same thing  butt better                                                                                                                                                                                                                                                                             | 1                                                                                                                                                                                                                                                                                                                                                                                                                                 |\n",
       "| 888 | com.rovio.angrybirds                                                                                                                                                                                                                                                                                                                                                                                                              |  all time legendary game the birthday party levels and short fuse levels are fantastic.especially when the pigs crash onto different chemicals is just great.suggestion to all those players who cringe about too much ads is close ur wi-fi connection and then play the game.then the ads won't trouble you.                                                                                                                    | 1                                                                                                                                                                                                                                                                                                                                                                                                                                 |\n",
       "| 889 | com.rovio.angrybirds                                                                                                                                                                                                                                                                                                                                                                                                              |  ads are way to heavy listen to the bad reviews. there are ads after every round, whether you pass it or fail it. sometimes there are ads before the next round starts to. you spend more time on ads than game play. i develop web apps, and honestly many people rely on ads to make a living. i can appreciate that all to well. however, these developers have went far beyond that. frankly, they are disrespectful nitwits. | 0                                                                                                                                                                                                                                                                                                                                                                                                                                 |\n",
       "| 890 | com.rovio.angrybirds                                                                                                                                                                                                                                                                                                                                                                                                              |  fun works perfectly well. ads aren't as annoying as you think, especially for a free game.                                                                                                                                                                                                                                                                                                                                       | 1                                                                                                                                                                                                                                                                                                                                                                                                                                 |\n",
       "| 891 | com.rovio.angrybirds                                                                                                                                                                                                                                                                                                                                                                                                              |  they're everywhere i see angry birds everywhere because i can't stop playing this game. get out my head devs! 4 đ because nothing's perfect                                                                                                                                                                                                                                                                    | 1                                                                                                                                                                                                                                                                                                                                                                                                                                 |\n",
       "\n"
      ],
      "text/plain": [
       "    package_name        \n",
       "886 com.rovio.angrybirds\n",
       "887 com.rovio.angrybirds\n",
       "888 com.rovio.angrybirds\n",
       "889 com.rovio.angrybirds\n",
       "890 com.rovio.angrybirds\n",
       "891 com.rovio.angrybirds\n",
       "    review                                                                                                                                                                                                                                                                                                                                                                                                                           \n",
       "886  too many ads far more adverts than any other game i've played. i know it's free and they need the ads to make a profit but there needs to be a balance.                                                                                                                                                                                                                                                                         \n",
       "887  loved it i loooooooooooooovvved it because it is incredible  awesome  and it's in go power and make a new clash of clans the same thing  butt better                                                                                                                                                                                                                                                                            \n",
       "888  all time legendary game the birthday party levels and short fuse levels are fantastic.especially when the pigs crash onto different chemicals is just great.suggestion to all those players who cringe about too much ads is close ur wi-fi connection and then play the game.then the ads won't trouble you.                                                                                                                   \n",
       "889  ads are way to heavy listen to the bad reviews. there are ads after every round, whether you pass it or fail it. sometimes there are ads before the next round starts to. you spend more time on ads than game play. i develop web apps, and honestly many people rely on ads to make a living. i can appreciate that all to well. however, these developers have went far beyond that. frankly, they are disrespectful nitwits.\n",
       "890  fun works perfectly well. ads aren't as annoying as you think, especially for a free game.                                                                                                                                                                                                                                                                                                                                      \n",
       "891  they're everywhere i see angry birds everywhere because i can't stop playing this game. get out my head devs! 4 đ\\u009f\\u008c\\u009f because nothing's perfect                                                                                                                                                                                                                                                                   \n",
       "    polarity\n",
       "886 1       \n",
       "887 1       \n",
       "888 1       \n",
       "889 0       \n",
       "890 1       \n",
       "891 1       "
      ]
     },
     "metadata": {},
     "output_type": "display_data"
    }
   ],
   "source": [
    "data_subject = read.csv(file='sentiment_dataset.csv', header=TRUE, sep=',', dec='.')\n",
    "head(data_subject)\n",
    "tail(data_subject)"
   ]
  },
  {
   "cell_type": "code",
   "execution_count": 499,
   "id": "61e28c53",
   "metadata": {
    "vscode": {
     "languageId": "r"
    }
   },
   "outputs": [
    {
     "name": "stdout",
     "output_type": "stream",
     "text": [
      "'data.frame':\t891 obs. of  3 variables:\n",
      " $ package_name: Factor w/ 23 levels \"com.Slack\",\"com.android.chrome\",..: 5 5 5 5 5 5 5 5 5 5 ...\n",
      " $ review      : Factor w/ 891 levels \"  a avid fan of wapp; thats what we call it..  a recommendation.. if u guys can include a feature in which i ca\"| __truncated__,..: 654 557 658 743 368 471 546 826 112 651 ...\n",
      " $ polarity    : int  0 0 0 0 0 0 0 0 0 0 ...\n"
     ]
    }
   ],
   "source": [
    "str(data_subject)"
   ]
  },
  {
   "cell_type": "markdown",
   "id": "ec3800f4",
   "metadata": {},
   "source": [
    "Para el siguiente dataset, contamos con 891 observaciones, y tan solo 3 variables. Vamos a explorar nuestra variable objetivo:"
   ]
  },
  {
   "cell_type": "code",
   "execution_count": 500,
   "id": "93b17d43",
   "metadata": {
    "vscode": {
     "languageId": "r"
    }
   },
   "outputs": [
    {
     "data": {
      "text/plain": [
       "\n",
       "   0    1 \n",
       "65.5 34.5 "
      ]
     },
     "metadata": {},
     "output_type": "display_data"
    },
    {
     "data": {
      "text/plain": [
       "\n",
       "                 com.Slack         com.android.chrome \n",
       "                       4.5                        4.4 \n",
       "       com.dropbox.android               com.evernote \n",
       "                       4.5                        4.5 \n",
       "       com.facebook.katana          com.facebook.orca \n",
       "                       4.5                        4.5 \n",
       "   com.google.android.talk          com.hamrokeyboard \n",
       "                       4.4                        4.4 \n",
       "            com.hamropatro      com.imangi.templerun2 \n",
       "                       4.3                        4.5 \n",
       "   com.king.candycrushsaga       com.linkedin.android \n",
       "                       4.5                        4.5 \n",
       "     com.opera.mini.native       com.rovio.angrybirds \n",
       "                       4.5                        4.4 \n",
       "   com.shirantech.kantipur com.supercell.clashofclans \n",
       "                       4.0                        4.5 \n",
       "            com.tencent.mm        com.twitter.android \n",
       "                       4.4                        4.4 \n",
       "         com.uc.browser.en             com.viber.voip \n",
       "                       4.5                        4.5 \n",
       "              com.whatsapp       jabanaki.todo.todoly \n",
       "                       4.4                        2.7 \n",
       "       org.mozilla.firefox \n",
       "                       4.5 "
      ]
     },
     "metadata": {},
     "output_type": "display_data"
    }
   ],
   "source": [
    "round(prop.table(table(data_subject$polarity))*100, digits = 1)\n",
    "round(prop.table(table(data_subject$package_name))*100, digits = 1)"
   ]
  },
  {
   "cell_type": "markdown",
   "id": "e90f80a7",
   "metadata": {},
   "source": [
    "Vemos un claro desbalance de instancias por tipo de clase en polarity. Más adelante vamos a comentar las implicaciones que puede tener para el modelo clasificador de Naive Bayes. Por lo que hace a tipos de apps presentes, simplemente destacar que la última sigue una nomenclatura algo extraña (jabanaki.todo.todoly), sumado a que tenemos pocas reviews de dicha app (2.7% del total)"
   ]
  },
  {
   "cell_type": "markdown",
   "id": "aba2880e",
   "metadata": {},
   "source": [
    "A partir de aquí, vamos a transformar nuestras reviews en un formato apto para hacer la predicción, además de hacer una limpieza para quedarnos con los tokens mas representativos, es decir, que mejor nos permitan identficar las distintas polarities"
   ]
  },
  {
   "cell_type": "code",
   "execution_count": 501,
   "id": "3f3ea7e6",
   "metadata": {
    "vscode": {
     "languageId": "r"
    }
   },
   "outputs": [],
   "source": [
    "data_subject$polarity = factor(data_subject$polarity)"
   ]
  },
  {
   "cell_type": "code",
   "execution_count": 502,
   "id": "a54ea24e",
   "metadata": {
    "vscode": {
     "languageId": "r"
    }
   },
   "outputs": [
    {
     "name": "stdout",
     "output_type": "stream",
     "text": [
      "<<VCorpus>>\n",
      "Metadata:  corpus specific: 0, document level (indexed): 0\n",
      "Content:  documents: 891\n"
     ]
    }
   ],
   "source": [
    "data_corpus = VCorpus(VectorSource(data_subject$review),readerControl = list(language = 'en'))\n",
    "print(data_corpus)"
   ]
  },
  {
   "cell_type": "markdown",
   "id": "3d2b7868",
   "metadata": {},
   "source": [
    "En este caso, hemos hecho directamente la función que nos permita filtrar el corpus generado:"
   ]
  },
  {
   "cell_type": "code",
   "execution_count": 503,
   "id": "2b6b1bf7",
   "metadata": {
    "vscode": {
     "languageId": "r"
    }
   },
   "outputs": [],
   "source": [
    "replacePunctuation = function(x) {gsub('[[:punct:]]', ' ', x)}\n",
    "removeAccents = function(x) chartr('àáèéìíòóùú', 'aaeeiioouu', x)\n",
    "removeSpecialCharacters <- function(x) {\n",
    "  x <- gsub(\"\\\\\\\\u[[:xdigit:]]{4}\", \"\", x)\n",
    "  x <- gsub(\"[^[:alnum:][:space:]]\", \"\", x)\n",
    "  return(x)\n",
    "}\n",
    "removeEmojis <- function(x) gsub(\"[^\\x01-\\x7F]\", \"\", x, perl = TRUE)\n",
    "\n",
    "\n",
    "clean_corpus = function(corpus){\n",
    "               data_corpus_clean = tm_map(corpus, content_transformer(tolower))\n",
    "               data_corpus_clean = tm_map(data_corpus_clean, removeNumbers)   \n",
    "               data_corpus_clean = tm_map(data_corpus_clean, removeWords, c(stopwords('english'),'google', 'candy', 'crush', 'clash', 'clans','linkedin', 'whatsapp', 'dropbox'))\n",
    "               data_corpus_clean = tm_map(data_corpus_clean, removePunctuation)     \n",
    "               data_corpus_clean = tm_map(data_corpus_clean, replacePunctuation)    \n",
    "               data_corpus_clean = tm_map(data_corpus_clean, removeAccents)\n",
    "               data_corpus_clean = tm_map(data_corpus_clean, removeSpecialCharacters)\n",
    "               data_corpus_clean = tm_map(data_corpus_clean, removeEmojis)\n",
    "               data_corpus_clean = tm_map(data_corpus_clean, stripWhitespace)      \n",
    "               data_corpus_clean = tm_map(data_corpus_clean, stemDocument, 'english')   \n",
    "               data_corpus_clean = tm_map(data_corpus_clean, PlainTextDocument)   \n",
    "  return(data_corpus_clean)\n",
    "}"
   ]
  },
  {
   "cell_type": "markdown",
   "id": "89bf17fd",
   "metadata": {},
   "source": [
    "Comparado con el ejemplo dado, en este caso las reviews están en inglés, por lo que el lenguage se debe cambiar en consecuencia. Además, gracias a la revisión de los textos, se ha visto la presencia de carácteres especiales (intuiendo que son emojis o algun formato no identificable), los cuales se han eliminado para no introducir ruido al modelo.\n",
    "\n",
    "También comentar que se han decidido eliminar palabras que son muy probables que se repitan, pero que no ayudan a distinguir entre clases. De entre estas, destacar los nombres de las apps (se han ido probando todos los nombres y esta es la combinación que ha acabado dando mayor accuracy)."
   ]
  },
  {
   "cell_type": "code",
   "execution_count": 504,
   "id": "03e0cabd",
   "metadata": {
    "vscode": {
     "languageId": "r"
    }
   },
   "outputs": [],
   "source": [
    "data_corpus_clean = clean_corpus(data_corpus) "
   ]
  },
  {
   "cell_type": "code",
   "execution_count": 505,
   "id": "f32e6825",
   "metadata": {
    "vscode": {
     "languageId": "r"
    }
   },
   "outputs": [
    {
     "data": {
      "image/png": "[encoded data removed]",
      "text/plain": [
       "plot without title"
      ]
     },
     "metadata": {},
     "output_type": "display_data"
    }
   ],
   "source": [
    "wordcloud(data_corpus_clean, max.words = 30, random.order = F, colors = brewer.pal(name = \"Dark2\", n = 8))"
   ]
  },
  {
   "cell_type": "code",
   "execution_count": 506,
   "id": "57197770",
   "metadata": {
    "vscode": {
     "languageId": "r"
    }
   },
   "outputs": [],
   "source": [
    "dtm = DocumentTermMatrix(data_corpus_clean)"
   ]
  },
  {
   "cell_type": "code",
   "execution_count": 507,
   "id": "36e969a2",
   "metadata": {
    "vscode": {
     "languageId": "r"
    }
   },
   "outputs": [
    {
     "name": "stdout",
     "output_type": "stream",
     "text": [
      "List of 6\n",
      " $ i       : int [1:16456] 1 1 1 1 1 1 1 1 1 1 ...\n",
      " $ j       : int [1:16456] 127 251 351 358 399 737 788 833 1251 1313 ...\n",
      " $ v       : num [1:16456] 1 1 1 1 1 1 1 1 1 1 ...\n",
      " $ nrow    : int 891\n",
      " $ ncol    : int 2738\n",
      " $ dimnames:List of 2\n",
      "  ..$ Docs : chr [1:891] \"character(0)\" \"character(0)\" \"character(0)\" \"character(0)\" ...\n",
      "  ..$ Terms: chr [1:2738] \"aafnaii\" \"aakhirat\" \"aalikati\" \"aap\" ...\n",
      " - attr(*, \"class\")= chr [1:2] \"DocumentTermMatrix\" \"simple_triplet_matrix\"\n",
      " - attr(*, \"weighting\")= chr [1:2] \"term frequency\" \"tf\"\n"
     ]
    }
   ],
   "source": [
    "str(dtm)"
   ]
  },
  {
   "cell_type": "code",
   "execution_count": 508,
   "id": "fb9e33f0",
   "metadata": {
    "vscode": {
     "languageId": "r"
    }
   },
   "outputs": [
    {
     "data": {
      "text/html": [
       "<dl class=dl-horizontal>\n",
       "\t<dt>aafnaii</dt>\n",
       "\t\t<dd>1</dd>\n",
       "\t<dt>aakhirat</dt>\n",
       "\t\t<dd>1</dd>\n",
       "\t<dt>aalikati</dt>\n",
       "\t\t<dd>1</dd>\n",
       "\t<dt>aap</dt>\n",
       "\t\t<dd>4</dd>\n",
       "\t<dt>aapsssssss</dt>\n",
       "\t\t<dd>1</dd>\n",
       "\t<dt>aaru</dt>\n",
       "\t\t<dd>1</dd>\n",
       "</dl>\n"
      ],
      "text/latex": [
       "\\begin{description*}\n",
       "\\item[aafnaii] 1\n",
       "\\item[aakhirat] 1\n",
       "\\item[aalikati] 1\n",
       "\\item[aap] 4\n",
       "\\item[aapsssssss] 1\n",
       "\\item[aaru] 1\n",
       "\\end{description*}\n"
      ],
      "text/markdown": [
       "aafnaii\n",
       ":   1aakhirat\n",
       ":   1aalikati\n",
       ":   1aap\n",
       ":   4aapsssssss\n",
       ":   1aaru\n",
       ":   1\n",
       "\n"
      ],
      "text/plain": [
       "   aafnaii   aakhirat   aalikati        aap aapsssssss       aaru \n",
       "         1          1          1          4          1          1 "
      ]
     },
     "metadata": {},
     "output_type": "display_data"
    }
   ],
   "source": [
    "termFreq = colSums(as.matrix(dtm))\n",
    "head(termFreq)"
   ]
  },
  {
   "cell_type": "code",
   "execution_count": 509,
   "id": "3d592e41",
   "metadata": {
    "vscode": {
     "languageId": "r"
    }
   },
   "outputs": [
    {
     "data": {
      "text/html": [
       "<table>\n",
       "<thead><tr><th></th><th scope=col>term</th><th scope=col>freq</th></tr></thead>\n",
       "<tbody>\n",
       "\t<tr><th scope=row>aafnaii</th><td>aafnaii   </td><td>1         </td></tr>\n",
       "\t<tr><th scope=row>aakhirat</th><td>aakhirat  </td><td>1         </td></tr>\n",
       "\t<tr><th scope=row>aalikati</th><td>aalikati  </td><td>1         </td></tr>\n",
       "\t<tr><th scope=row>aap</th><td>aap       </td><td>4         </td></tr>\n",
       "\t<tr><th scope=row>aapsssssss</th><td>aapsssssss</td><td>1         </td></tr>\n",
       "\t<tr><th scope=row>aaru</th><td>aaru      </td><td>1         </td></tr>\n",
       "</tbody>\n",
       "</table>\n"
      ],
      "text/latex": [
       "\\begin{tabular}{r|ll}\n",
       "  & term & freq\\\\\n",
       "\\hline\n",
       "\taafnaii & aafnaii    & 1         \\\\\n",
       "\taakhirat & aakhirat   & 1         \\\\\n",
       "\taalikati & aalikati   & 1         \\\\\n",
       "\taap & aap        & 4         \\\\\n",
       "\taapsssssss & aapsssssss & 1         \\\\\n",
       "\taaru & aaru       & 1         \\\\\n",
       "\\end{tabular}\n"
      ],
      "text/markdown": [
       "\n",
       "| <!--/--> | term | freq |\n",
       "|---|---|---|\n",
       "| aafnaii | aafnaii    | 1          |\n",
       "| aakhirat | aakhirat   | 1          |\n",
       "| aalikati | aalikati   | 1          |\n",
       "| aap | aap        | 4          |\n",
       "| aapsssssss | aapsssssss | 1          |\n",
       "| aaru | aaru       | 1          |\n",
       "\n"
      ],
      "text/plain": [
       "           term       freq\n",
       "aafnaii    aafnaii    1   \n",
       "aakhirat   aakhirat   1   \n",
       "aalikati   aalikati   1   \n",
       "aap        aap        4   \n",
       "aapsssssss aapsssssss 1   \n",
       "aaru       aaru       1   "
      ]
     },
     "metadata": {},
     "output_type": "display_data"
    }
   ],
   "source": [
    "tabla_frec = data.frame(term = names(termFreq), freq = termFreq)\n",
    "head(tabla_frec)"
   ]
  },
  {
   "cell_type": "code",
   "execution_count": 510,
   "id": "048ccdaa",
   "metadata": {
    "vscode": {
     "languageId": "r"
    }
   },
   "outputs": [
    {
     "data": {
      "text/html": [
       "<table>\n",
       "<thead><tr><th></th><th scope=col>term</th><th scope=col>freq</th></tr></thead>\n",
       "<tbody>\n",
       "\t<tr><th scope=row>app</th><td>app  </td><td>480  </td></tr>\n",
       "\t<tr><th scope=row>use</th><td>use  </td><td>300  </td></tr>\n",
       "\t<tr><th scope=row>updat</th><td>updat</td><td>244  </td></tr>\n",
       "\t<tr><th scope=row>game</th><td>game </td><td>179  </td></tr>\n",
       "\t<tr><th scope=row>work</th><td>work </td><td>177  </td></tr>\n",
       "\t<tr><th scope=row>fix</th><td>fix  </td><td>171  </td></tr>\n",
       "</tbody>\n",
       "</table>\n"
      ],
      "text/latex": [
       "\\begin{tabular}{r|ll}\n",
       "  & term & freq\\\\\n",
       "\\hline\n",
       "\tapp & app   & 480  \\\\\n",
       "\tuse & use   & 300  \\\\\n",
       "\tupdat & updat & 244  \\\\\n",
       "\tgame & game  & 179  \\\\\n",
       "\twork & work  & 177  \\\\\n",
       "\tfix & fix   & 171  \\\\\n",
       "\\end{tabular}\n"
      ],
      "text/markdown": [
       "\n",
       "| <!--/--> | term | freq |\n",
       "|---|---|---|\n",
       "| app | app   | 480   |\n",
       "| use | use   | 300   |\n",
       "| updat | updat | 244   |\n",
       "| game | game  | 179   |\n",
       "| work | work  | 177   |\n",
       "| fix | fix   | 171   |\n",
       "\n"
      ],
      "text/plain": [
       "      term  freq\n",
       "app   app   480 \n",
       "use   use   300 \n",
       "updat updat 244 \n",
       "game  game  179 \n",
       "work  work  177 \n",
       "fix   fix   171 "
      ]
     },
     "metadata": {},
     "output_type": "display_data"
    }
   ],
   "source": [
    "tabla_frec = tabla_frec[order(-tabla_frec[,2]),]\n",
    "head(tabla_frec)"
   ]
  },
  {
   "cell_type": "markdown",
   "id": "db143429",
   "metadata": {},
   "source": [
    "Vemos como la palabra app (que a priori no es indicativo de si la review es buena/mala o neutra) es de las palabras mas usadas por los usuarios. La que mas nos podria interesar es la de update, ya que podemos intuir que los users estan o bien pidiendo una actualización de la app o estan elogiando esta. También podemos destacar la palabra fix, en la que prácticamente seguro que estará mas relacionada con la clase buena/mala review."
   ]
  },
  {
   "cell_type": "code",
   "execution_count": 511,
   "id": "cba4b19c",
   "metadata": {
    "vscode": {
     "languageId": "r"
    }
   },
   "outputs": [],
   "source": [
    "set.seed(555)\n",
    "\n",
    "inTrain <- createDataPartition(y = data_subject$polarity\n",
    "                                  , p = .70\n",
    "                                  , list = FALSE\n",
    "                                  , times = 1)\n",
    "data.train<-data_subject[inTrain,]\n",
    "data.test<-data_subject[-inTrain,]"
   ]
  },
  {
   "cell_type": "code",
   "execution_count": 512,
   "id": "486c1fae",
   "metadata": {
    "vscode": {
     "languageId": "r"
    }
   },
   "outputs": [],
   "source": [
    "corpus.train = data_corpus_clean[inTrain]\n",
    "corpus.test  = data_corpus_clean[-inTrain]\n",
    "\n",
    "dtm.train = dtm[inTrain, ]\n",
    "dtm.test  = dtm[-inTrain, ]"
   ]
  },
  {
   "cell_type": "code",
   "execution_count": 513,
   "id": "c86a59f3",
   "metadata": {
    "vscode": {
     "languageId": "r"
    }
   },
   "outputs": [
    {
     "data": {
      "text/html": [
       "2738"
      ],
      "text/latex": [
       "2738"
      ],
      "text/markdown": [
       "2738"
      ],
      "text/plain": [
       "[1] 2738"
      ]
     },
     "metadata": {},
     "output_type": "display_data"
    },
    {
     "data": {
      "text/html": [
       "319"
      ],
      "text/latex": [
       "319"
      ],
      "text/markdown": [
       "319"
      ],
      "text/plain": [
       "[1] 319"
      ]
     },
     "metadata": {},
     "output_type": "display_data"
    },
    {
     "data": {
      "text/html": [
       "2738"
      ],
      "text/latex": [
       "2738"
      ],
      "text/markdown": [
       "2738"
      ],
      "text/plain": [
       "[1] 2738"
      ]
     },
     "metadata": {},
     "output_type": "display_data"
    },
    {
     "data": {
      "text/html": [
       "305"
      ],
      "text/latex": [
       "305"
      ],
      "text/markdown": [
       "305"
      ],
      "text/plain": [
       "[1] 305"
      ]
     },
     "metadata": {},
     "output_type": "display_data"
    }
   ],
   "source": [
    "freq_terms = findFreqTerms(dtm.train, lowfreq = 10)\n",
    "reduced_dtm.train = removeSparseTerms(DocumentTermMatrix(corpus.train, list(dictionary=freq_terms)),0.995)\n",
    "reduced_dtm.test =  removeSparseTerms(DocumentTermMatrix(corpus.test, list(dictionary=freq_terms)),0.995)\n",
    "\n",
    "ncol(dtm.train)\n",
    "ncol(reduced_dtm.train)\n",
    "ncol(dtm.test)\n",
    "ncol(reduced_dtm.test)"
   ]
  },
  {
   "cell_type": "markdown",
   "id": "a1213794",
   "metadata": {},
   "source": [
    "Antes de comentar el modelo bayesiano, mencionar que tan solo con la reducción presente en el ejemplo no era significativa. Para ello, se ha decidio augmentar el número mínimo de apariciones por palabra (10) y también se han eliminado palabras que se parecen mucho, con la función removeSparseTerms().\n",
    "\n",
    "Gracias a ello, hemos reducido de 2800 a 300 palabras clave para la clasificación."
   ]
  },
  {
   "cell_type": "markdown",
   "id": "5c2d785a",
   "metadata": {},
   "source": [
    "## 2. Creación de modelo clasificador de Naive Bayes\n"
   ]
  },
  {
   "cell_type": "code",
   "execution_count": 514,
   "id": "0708a967",
   "metadata": {
    "vscode": {
     "languageId": "r"
    }
   },
   "outputs": [],
   "source": [
    "convert_counts = function(x) {\n",
    "  x = ifelse(x > 0, 1, 0)\n",
    "  x = factor(x, levels = c(0, 1), labels=c(\"No\", \"Yes\"))\n",
    "  return (x)\n",
    "}\n",
    "\n",
    "reduced_dtm.train = apply(reduced_dtm.train, MARGIN=2, convert_counts)\n",
    "reduced_dtm.test  = apply(reduced_dtm.test, MARGIN=2, convert_counts)"
   ]
  },
  {
   "cell_type": "code",
   "execution_count": 515,
   "id": "3baef682",
   "metadata": {
    "vscode": {
     "languageId": "r"
    }
   },
   "outputs": [],
   "source": [
    "\n",
    "subject_classifier = naiveBayes(reduced_dtm.train \n",
    "                            , data.train$polarity) \n",
    "\n",
    "subject_test.predicted = predict(subject_classifier,  \n",
    "                             reduced_dtm.test) \n",
    "\n"
   ]
  },
  {
   "cell_type": "code",
   "execution_count": 516,
   "id": "52adfcc0",
   "metadata": {
    "vscode": {
     "languageId": "r"
    }
   },
   "outputs": [
    {
     "data": {
      "text/plain": [
       "Confusion Matrix and Statistics\n",
       "\n",
       "          Reference\n",
       "Prediction   0   1\n",
       "         0 151  20\n",
       "         1  24  72\n",
       "                                          \n",
       "               Accuracy : 0.8352          \n",
       "                 95% CI : (0.7852, 0.8776)\n",
       "    No Information Rate : 0.6554          \n",
       "    P-Value [Acc > NIR] : 4.334e-11       \n",
       "                                          \n",
       "                  Kappa : 0.6389          \n",
       "                                          \n",
       " Mcnemar's Test P-Value : 0.6511          \n",
       "                                          \n",
       "            Sensitivity : 0.8629          \n",
       "            Specificity : 0.7826          \n",
       "         Pos Pred Value : 0.8830          \n",
       "         Neg Pred Value : 0.7500          \n",
       "             Prevalence : 0.6554          \n",
       "         Detection Rate : 0.5655          \n",
       "   Detection Prevalence : 0.6404          \n",
       "      Balanced Accuracy : 0.8227          \n",
       "                                          \n",
       "       'Positive' Class : 0               \n",
       "                                          "
      ]
     },
     "metadata": {},
     "output_type": "display_data"
    }
   ],
   "source": [
    "\n",
    "confusionMatrix(subject_test.predicted, data.test$polarity)"
   ]
  },
  {
   "cell_type": "markdown",
   "id": "c183d06b",
   "metadata": {},
   "source": [
    "Vista la accuracy del modelo, podemos firmemente decir que tiene una accuracy decente (83%). El problema reside en el uso que se le puede dar a este modelo. Si queremos filtrar reviews para descartar las neutras (ya que no nos aportan tanto valor), en este modelo estariamos descartando 24/175 reviews (clasificadas como neutras). \n",
    "\n",
    "Aun así, si hay un aspecto muy negativo o muy positivo en una app, esta se suele repetir en las reviews, por lo que si guardamos 151 reviews del tipo 1, es muy probable que el problema que se comenta en la review este repetida en una review que se ha clasificado correctamente.\n",
    "\n",
    "Vamos a ver en detalle las reviews mal clasificadas:"
   ]
  },
  {
   "cell_type": "code",
   "execution_count": 517,
   "id": "45f4ec69",
   "metadata": {
    "vscode": {
     "languageId": "r"
    }
   },
   "outputs": [
    {
     "data": {
      "text/html": [
       "<table>\n",
       "<thead><tr><th></th><th scope=col>package_name</th><th scope=col>review</th><th scope=col>polarity</th></tr></thead>\n",
       "<tbody>\n",
       "\t<tr><th scope=row>36</th><td>com.facebook.katana                                                                                                                                                                                                                                                                                                                                                                                                                                                                                                                                                        </td><td> not good its previous version (12.0.0.15.14) is much good than that. i can't text directly with current version. please add the inbuilt messenger again in the app.                                                                                                                                                                                                                                                                                                                                                                                                       </td><td>0                                                                                                                                                                                                                                                                                                                                                                                                                                                                                                                                                                          </td></tr>\n",
       "\t<tr><th scope=row>154</th><td>com.king.candycrushsaga                                                                                                                                                                                                                                                                                                                                                                                                                                                                                                                                                    </td><td> complete bull was on 1186 and went to play and had lost all my boosters had over 100 different boosters saved up some i payed for never again                                                                                                                                                                                                                                                                                                                                                                                                                             </td><td>0                                                                                                                                                                                                                                                                                                                                                                                                                                                                                                                                                                          </td></tr>\n",
       "\t<tr><th scope=row>160</th><td>com.imangi.templerun2                                                                                                                                                                                                                                                                                                                                                                                                                                                                                                                                                      </td><td> book and their use as a great christmas navarro was gonna get a lot of different names for christmas is a screamer and i can't remember if my sis and baking and making everything so perfect for me to believe in things and i'll return to go over in a few minutes ago and i have a great day at home soon and their little room in the kids to school with your questions                                                                                                                                                                                             </td><td>0                                                                                                                                                                                                                                                                                                                                                                                                                                                                                                                                                                          </td></tr>\n",
       "\t<tr><th scope=row>180</th><td>com.imangi.templerun2                                                                                                                                                                                                                                                                                                                                                                                                                                                                                                                                                      </td><td> temple run -pretty good the game is fun.but i would like it if it didn't have so many videos for one specific app most of the time. it would also be nice if you could choose to be a boy or a girl character. overall the game is okay/pretty good                                                                                                                                                                                                                                                                                                                       </td><td>0                                                                                                                                                                                                                                                                                                                                                                                                                                                                                                                                                                          </td></tr>\n",
       "\t<tr><th scope=row>205</th><td>com.supercell.clashofclans                                                                                                                                                                                                                                                                                                                                                                                                                                                                                                                                                 </td><td>  hey supercell i would like u to put in a skype in the clan chats when peaple r battleing because u could help them out because u see things they dont and some type of healing defense. and thx for the town hall 11 if u do 5 stars                                                                                                                                                                                                                                                                                                                                     </td><td>0                                                                                                                                                                                                                                                                                                                                                                                                                                                                                                                                                                          </td></tr>\n",
       "\t<tr><th scope=row>246</th><td>com.android.chrome                                                                                                                                                                                                                                                                                                                                                                                                                                                                                                                                                         </td><td> what is this? google is an oldest browser to search something so when we want to do something on puffin browser then what is the benifit to use it . plz make those things possible wich are possible on puffin especially for android phone.  i shall be thankful.                                                                                                                                                                                                                                                                                                       </td><td>0                                                                                                                                                                                                                                                                                                                                                                                                                                                                                                                                                                          </td></tr>\n",
       "\t<tr><th scope=row>251</th><td>com.android.chrome                                                                                                                                                                                                                                                                                                                                                                                                                                                                                                                                                         </td><td> cannot cast to chromecast of all the apps that chromecast supports, chrome browser is not supported? why? how am i supposed to cast my browser? use firefox? or worse wait for ie? fix it already chrome. come on!                                                                                                                                                                                                                                                                                                                                                        </td><td>0                                                                                                                                                                                                                                                                                                                                                                                                                                                                                                                                                                          </td></tr>\n",
       "\t<tr><th scope=row>272</th><td>com.android.chrome                                                                                                                                                                                                                                                                                                                                                                                                                                                                                                                                                         </td><td> average not so good for watching online videos for watching videos i would prefer stock aosp google browser or uc browser + mx player.                                                                                                                                                                                                                                                                                                                                                                                                                                    </td><td>0                                                                                                                                                                                                                                                                                                                                                                                                                                                                                                                                                                          </td></tr>\n",
       "\t<tr><th scope=row>278</th><td>com.android.chrome                                                                                                                                                                                                                                                                                                                                                                                                                                                                                                                                                         </td><td> translation use it for browsing and visiting viet and chinese and other country sites for translations, but using uc browser for downloading.. no other app can replace uc for fast downloading speed..                                                                                                                                                                                                                                                                                                                                                                   </td><td>0                                                                                                                                                                                                                                                                                                                                                                                                                                                                                                                                                                          </td></tr>\n",
       "\t<tr><th scope=row>417</th><td>com.facebook.orca                                                                                                                                                                                                                                                                                                                                                                                                                                                                                                                                                          </td><td> not good i had for a while but is not working keeps messing up my face book must have a big because i deleted and my face book works                                                                                                                                                                                                                                                                                                                                                                                                                                      </td><td>0                                                                                                                                                                                                                                                                                                                                                                                                                                                                                                                                                                          </td></tr>\n",
       "\t<tr><th scope=row>563</th><td>jabanaki.todo.todoly                                                                                                                                                                                                                                                                                                                                                                                                                                                                                                                                                       </td><td> has potential could be better but it conts to crash after some use. love the web version though!                                                                                                                                                                                                                                                                                                                                                                                                                                                                          </td><td>0                                                                                                                                                                                                                                                                                                                                                                                                                                                                                                                                                                          </td></tr>\n",
       "\t<tr><th scope=row>566</th><td>jabanaki.todo.todoly                                                                                                                                                                                                                                                                                                                                                                                                                                                                                                                                                       </td><td> dud on droid4 doesn't work on my new droid4                                                                                                                                                                                                                                                                                                                                                                                                                                                                                                                               </td><td>0                                                                                                                                                                                                                                                                                                                                                                                                                                                                                                                                                                          </td></tr>\n",
       "\t<tr><th scope=row>579</th><td>jabanaki.todo.todoly                                                                                                                                                                                                                                                                                                                                                                                                                                                                                                                                                       </td><td> won't authenticate i use the web app and wanted to have it on the go. it won't login. i checked my credentials and i can get in on the web, but not my phone.                                                                                                                                                                                                                                                                                                                                                                                                             </td><td>0                                                                                                                                                                                                                                                                                                                                                                                                                                                                                                                                                                          </td></tr>\n",
       "\t<tr><th scope=row>596</th><td>com.evernote                                                                                                                                                                                                                                                                                                                                                                                                                                                                                                                                                               </td><td> neat idea, but let-down by no linux support. an application like evernote is only as useful as the service behind it, and the service behind a concept like evernote is only as useful as the availability of an application or program to connect to said service... which is where evernote fails - it is not natively available for linux-based operating systems (such as ubuntu). sure, the android application works well enough - but when the only way to access evernote under a linux-based operating system is via a web browser, it quickly looses its appeal.</td><td>0                                                                                                                                                                                                                                                                                                                                                                                                                                                                                                                                                                          </td></tr>\n",
       "\t<tr><th scope=row>621</th><td>com.uc.browser.en                                                                                                                                                                                                                                                                                                                                                                                                                                                                                                                                                          </td><td> disappointed first of all i'd like to thank the creators of the uc browser for this is the best browser that i have ever used. now why 3 stars ,because i was planning to download a game but uc browser can't download it. the page loads but no downloads and i have to use mozilla because of this particular reason..i want to give you guys a five star but until you fix this i will just give you 3 star...thank you ....just please help me with  this one i want to use only one browser.                                                                        </td><td>0                                                                                                                                                                                                                                                                                                                                                                                                                                                                                                                                                                          </td></tr>\n",
       "\t<tr><th scope=row>626</th><td>com.uc.browser.en                                                                                                                                                                                                                                                                                                                                                                                                                                                                                                                                                          </td><td> best browser in short size i cut 1 star because i am facing some issue in downloading two items at the same. 1 item's downloading speed is good but another's speed is very slow.                                                                                                                                                                                                                                                                                                                                                                                         </td><td>0                                                                                                                                                                                                                                                                                                                                                                                                                                                                                                                                                                          </td></tr>\n",
       "\t<tr><th scope=row>711</th><td>com.opera.mini.native                                                                                                                                                                                                                                                                                                                                                                                                                                                                                                                                                      </td><td> saved pages list should be in alphabetical order as well as in newest to oldest order.... dear opera mini, i hold back one star for not giving us a choice to view the saved pages list in alphabetical order as well as in newest to oldest order. please improve on that one thing and i would love to rate five stars to this beautiful browser opera mini.                                                                                                                                                                                                            </td><td>0                                                                                                                                                                                                                                                                                                                                                                                                                                                                                                                                                                          </td></tr>\n",
       "\t<tr><th scope=row>716</th><td>com.opera.mini.native                                                                                                                                                                                                                                                                                                                                                                                                                                                                                                                                                      </td><td> night mode this app is really good actually, but why the night mode doesn't work? what ashame đľ                                                                                                                                                                                                                                                                                                                                                                                                                                                              </td><td>0                                                                                                                                                                                                                                                                                                                                                                                                                                                                                                                                                                          </td></tr>\n",
       "\t<tr><th scope=row>721</th><td>com.opera.mini.native                                                                                                                                                                                                                                                                                                                                                                                                                                                                                                                                                      </td><td> fonts why in the heck is this thing analysing my fonts??? not really quick browsing when i have to wait 5minutes for the fonts to load. are you asking my opinion? avoid this. terrible                                                                                                                                                                                                                                                                                                                                                                                   </td><td>0                                                                                                                                                                                                                                                                                                                                                                                                                                                                                                                                                                          </td></tr>\n",
       "\t<tr><th scope=row>725</th><td>com.opera.mini.native                                                                                                                                                                                                                                                                                                                                                                                                                                                                                                                                                      </td><td> i want the old theme back!!!!! this theme is awful. previously opera mini was the best browser but now i think it's worst. no, i don't want to see the news or anything. just return the old opera mini back. you just make it awesome to awful.                                                                                                                                                                                                                                                                                                                          </td><td>0                                                                                                                                                                                                                                                                                                                                                                                                                                                                                                                                                                          </td></tr>\n",
       "\t<tr><th scope=row>741</th><td>com.shirantech.kantipur                                                                                                                                                                                                                                                                                                                                                                                                                                                                                                                                                    </td><td> too much pop up add average app with too much advertisement. one star for the app and 5 star for the pop up advertisement.                                                                                                                                                                                                                                                                                                                                                                                                                                                </td><td>0                                                                                                                                                                                                                                                                                                                                                                                                                                                                                                                                                                          </td></tr>\n",
       "\t<tr><th scope=row>782</th><td>org.mozilla.firefox                                                                                                                                                                                                                                                                                                                                                                                                                                                                                                                                                        </td><td> firefox is getting better ... slowly it crashes regularly. it doesn't play video on youtube. otherwise it is a promising fast browser, i still miss the gestures/swipes and a well organized homepage with my selected bookmarks (see ucbrowser hd)                                                                                                                                                                                                                                                                                                                       </td><td>0                                                                                                                                                                                                                                                                                                                                                                                                                                                                                                                                                                          </td></tr>\n",
       "\t<tr><th scope=row>863</th><td>com.rovio.angrybirds                                                                                                                                                                                                                                                                                                                                                                                                                                                                                                                                                       </td><td> awesome game but... this is such a great game but there are way to many adds every time you get passed a level there's another add but even with all the adds it's still an amazing game                                                                                                                                                                                                                                                                                                                                                                                  </td><td>0                                                                                                                                                                                                                                                                                                                                                                                                                                                                                                                                                                          </td></tr>\n",
       "\t<tr><th scope=row>877</th><td>com.rovio.angrybirds                                                                                                                                                                                                                                                                                                                                                                                                                                                                                                                                                       </td><td> 2many adds. great game ruined by too many adds! way too many adds now. not even fun anymore. was great, now it's terrible.                                                                                                                                                                                                                                                                                                                                                                                                                                                </td><td>0                                                                                                                                                                                                                                                                                                                                                                                                                                                                                                                                                                          </td></tr>\n",
       "</tbody>\n",
       "</table>\n"
      ],
      "text/latex": [
       "\\begin{tabular}{r|lll}\n",
       "  & package\\_name & review & polarity\\\\\n",
       "\\hline\n",
       "\t36 & com.facebook.katana                                                                                                                                                                                                                                                                                                                                                                                                                                                                                                                                                         &  not good its previous version (12.0.0.15.14) is much good than that. i can't text directly with current version. please add the inbuilt messenger again in the app.                                                                                                                                                                                                                                                                                                                                                                                                        & 0                                                                                                                                                                                                                                                                                                                                                                                                                                                                                                                                                                          \\\\\n",
       "\t154 & com.king.candycrushsaga                                                                                                                                                                                                                                                                                                                                                                                                                                                                                                                                                     &  complete bull was on 1186 and went to play and had lost all my boosters had over 100 different boosters saved up some i payed for never again                                                                                                                                                                                                                                                                                                                                                                                                                              & 0                                                                                                                                                                                                                                                                                                                                                                                                                                                                                                                                                                          \\\\\n",
       "\t160 & com.imangi.templerun2                                                                                                                                                                                                                                                                                                                                                                                                                                                                                                                                                       &  book and their use as a great christmas navarro was gonna get a lot of different names for christmas is a screamer and i can't remember if my sis and baking and making everything so perfect for me to believe in things and i'll return to go over in a few minutes ago and i have a great day at home soon and their little room in the kids to school with your questions                                                                                                                                                                                              & 0                                                                                                                                                                                                                                                                                                                                                                                                                                                                                                                                                                          \\\\\n",
       "\t180 & com.imangi.templerun2                                                                                                                                                                                                                                                                                                                                                                                                                                                                                                                                                       &  temple run -pretty good the game is fun.but i would like it if it didn't have so many videos for one specific app most of the time. it would also be nice if you could choose to be a boy or a girl character. overall the game is okay/pretty good                                                                                                                                                                                                                                                                                                                        & 0                                                                                                                                                                                                                                                                                                                                                                                                                                                                                                                                                                          \\\\\n",
       "\t205 & com.supercell.clashofclans                                                                                                                                                                                                                                                                                                                                                                                                                                                                                                                                                  &   hey supercell i would like u to put in a skype in the clan chats when peaple r battleing because u could help them out because u see things they dont and some type of healing defense. and thx for the town hall 11 if u do 5 stars                                                                                                                                                                                                                                                                                                                                      & 0                                                                                                                                                                                                                                                                                                                                                                                                                                                                                                                                                                          \\\\\n",
       "\t246 & com.android.chrome                                                                                                                                                                                                                                                                                                                                                                                                                                                                                                                                                          &  what is this? google is an oldest browser to search something so when we want to do something on puffin browser then what is the benifit to use it . plz make those things possible wich are possible on puffin especially for android phone.  i shall be thankful.                                                                                                                                                                                                                                                                                                        & 0                                                                                                                                                                                                                                                                                                                                                                                                                                                                                                                                                                          \\\\\n",
       "\t251 & com.android.chrome                                                                                                                                                                                                                                                                                                                                                                                                                                                                                                                                                          &  cannot cast to chromecast of all the apps that chromecast supports, chrome browser is not supported? why? how am i supposed to cast my browser? use firefox? or worse wait for ie? fix it already chrome. come on!                                                                                                                                                                                                                                                                                                                                                         & 0                                                                                                                                                                                                                                                                                                                                                                                                                                                                                                                                                                          \\\\\n",
       "\t272 & com.android.chrome                                                                                                                                                                                                                                                                                                                                                                                                                                                                                                                                                          &  average not so good for watching online videos for watching videos i would prefer stock aosp google browser or uc browser + mx player.                                                                                                                                                                                                                                                                                                                                                                                                                                     & 0                                                                                                                                                                                                                                                                                                                                                                                                                                                                                                                                                                          \\\\\n",
       "\t278 & com.android.chrome                                                                                                                                                                                                                                                                                                                                                                                                                                                                                                                                                          &  translation use it for browsing and visiting viet and chinese and other country sites for translations, but using uc browser for downloading.. no other app can replace uc for fast downloading speed..                                                                                                                                                                                                                                                                                                                                                                    & 0                                                                                                                                                                                                                                                                                                                                                                                                                                                                                                                                                                          \\\\\n",
       "\t417 & com.facebook.orca                                                                                                                                                                                                                                                                                                                                                                                                                                                                                                                                                           &  not good i had for a while but is not working keeps messing up my face book must have a big because i deleted and my face book works                                                                                                                                                                                                                                                                                                                                                                                                                                       & 0                                                                                                                                                                                                                                                                                                                                                                                                                                                                                                                                                                          \\\\\n",
       "\t563 & jabanaki.todo.todoly                                                                                                                                                                                                                                                                                                                                                                                                                                                                                                                                                        &  has potential could be better but it conts to crash after some use. love the web version though!                                                                                                                                                                                                                                                                                                                                                                                                                                                                           & 0                                                                                                                                                                                                                                                                                                                                                                                                                                                                                                                                                                          \\\\\n",
       "\t566 & jabanaki.todo.todoly                                                                                                                                                                                                                                                                                                                                                                                                                                                                                                                                                        &  dud on droid4 doesn't work on my new droid4                                                                                                                                                                                                                                                                                                                                                                                                                                                                                                                                & 0                                                                                                                                                                                                                                                                                                                                                                                                                                                                                                                                                                          \\\\\n",
       "\t579 & jabanaki.todo.todoly                                                                                                                                                                                                                                                                                                                                                                                                                                                                                                                                                        &  won't authenticate i use the web app and wanted to have it on the go. it won't login. i checked my credentials and i can get in on the web, but not my phone.                                                                                                                                                                                                                                                                                                                                                                                                              & 0                                                                                                                                                                                                                                                                                                                                                                                                                                                                                                                                                                          \\\\\n",
       "\t596 & com.evernote                                                                                                                                                                                                                                                                                                                                                                                                                                                                                                                                                                &  neat idea, but let-down by no linux support. an application like evernote is only as useful as the service behind it, and the service behind a concept like evernote is only as useful as the availability of an application or program to connect to said service... which is where evernote fails - it is not natively available for linux-based operating systems (such as ubuntu). sure, the android application works well enough - but when the only way to access evernote under a linux-based operating system is via a web browser, it quickly looses its appeal. & 0                                                                                                                                                                                                                                                                                                                                                                                                                                                                                                                                                                          \\\\\n",
       "\t621 & com.uc.browser.en                                                                                                                                                                                                                                                                                                                                                                                                                                                                                                                                                           &  disappointed first of all i'd like to thank the creators of the uc browser for this is the best browser that i have ever used. now why 3 stars ,because i was planning to download a game but uc browser can't download it. the page loads but no downloads and i have to use mozilla because of this particular reason..i want to give you guys a five star but until you fix this i will just give you 3 star...thank you ....just please help me with  this one i want to use only one browser.                                                                         & 0                                                                                                                                                                                                                                                                                                                                                                                                                                                                                                                                                                          \\\\\n",
       "\t626 & com.uc.browser.en                                                                                                                                                                                                                                                                                                                                                                                                                                                                                                                                                           &  best browser in short size i cut 1 star because i am facing some issue in downloading two items at the same. 1 item's downloading speed is good but another's speed is very slow.                                                                                                                                                                                                                                                                                                                                                                                          & 0                                                                                                                                                                                                                                                                                                                                                                                                                                                                                                                                                                          \\\\\n",
       "\t711 & com.opera.mini.native                                                                                                                                                                                                                                                                                                                                                                                                                                                                                                                                                       &  saved pages list should be in alphabetical order as well as in newest to oldest order.... dear opera mini, i hold back one star for not giving us a choice to view the saved pages list in alphabetical order as well as in newest to oldest order. please improve on that one thing and i would love to rate five stars to this beautiful browser opera mini.                                                                                                                                                                                                             & 0                                                                                                                                                                                                                                                                                                                                                                                                                                                                                                                                                                          \\\\\n",
       "\t716 & com.opera.mini.native                                                                                                                                                                                                                                                                                                                                                                                                                                                                                                                                                       &  night mode this app is really good actually, but why the night mode doesn't work? what ashame đľ                                                                                                                                                                                                                                                                                                                                                                                                                                                               & 0                                                                                                                                                                                                                                                                                                                                                                                                                                                                                                                                                                          \\\\\n",
       "\t721 & com.opera.mini.native                                                                                                                                                                                                                                                                                                                                                                                                                                                                                                                                                       &  fonts why in the heck is this thing analysing my fonts??? not really quick browsing when i have to wait 5minutes for the fonts to load. are you asking my opinion? avoid this. terrible                                                                                                                                                                                                                                                                                                                                                                                    & 0                                                                                                                                                                                                                                                                                                                                                                                                                                                                                                                                                                          \\\\\n",
       "\t725 & com.opera.mini.native                                                                                                                                                                                                                                                                                                                                                                                                                                                                                                                                                       &  i want the old theme back!!!!! this theme is awful. previously opera mini was the best browser but now i think it's worst. no, i don't want to see the news or anything. just return the old opera mini back. you just make it awesome to awful.                                                                                                                                                                                                                                                                                                                           & 0                                                                                                                                                                                                                                                                                                                                                                                                                                                                                                                                                                          \\\\\n",
       "\t741 & com.shirantech.kantipur                                                                                                                                                                                                                                                                                                                                                                                                                                                                                                                                                     &  too much pop up add average app with too much advertisement. one star for the app and 5 star for the pop up advertisement.                                                                                                                                                                                                                                                                                                                                                                                                                                                 & 0                                                                                                                                                                                                                                                                                                                                                                                                                                                                                                                                                                          \\\\\n",
       "\t782 & org.mozilla.firefox                                                                                                                                                                                                                                                                                                                                                                                                                                                                                                                                                         &  firefox is getting better ... slowly it crashes regularly. it doesn't play video on youtube. otherwise it is a promising fast browser, i still miss the gestures/swipes and a well organized homepage with my selected bookmarks (see ucbrowser hd)                                                                                                                                                                                                                                                                                                                        & 0                                                                                                                                                                                                                                                                                                                                                                                                                                                                                                                                                                          \\\\\n",
       "\t863 & com.rovio.angrybirds                                                                                                                                                                                                                                                                                                                                                                                                                                                                                                                                                        &  awesome game but... this is such a great game but there are way to many adds every time you get passed a level there's another add but even with all the adds it's still an amazing game                                                                                                                                                                                                                                                                                                                                                                                   & 0                                                                                                                                                                                                                                                                                                                                                                                                                                                                                                                                                                          \\\\\n",
       "\t877 & com.rovio.angrybirds                                                                                                                                                                                                                                                                                                                                                                                                                                                                                                                                                        &  2many adds. great game ruined by too many adds! way too many adds now. not even fun anymore. was great, now it's terrible.                                                                                                                                                                                                                                                                                                                                                                                                                                                 & 0                                                                                                                                                                                                                                                                                                                                                                                                                                                                                                                                                                          \\\\\n",
       "\\end{tabular}\n"
      ],
      "text/markdown": [
       "\n",
       "| <!--/--> | package_name | review | polarity |\n",
       "|---|---|---|---|\n",
       "| 36 | com.facebook.katana                                                                                                                                                                                                                                                                                                                                                                                                                                                                                                                                                         |  not good its previous version (12.0.0.15.14) is much good than that. i can't text directly with current version. please add the inbuilt messenger again in the app.                                                                                                                                                                                                                                                                                                                                                                                                        | 0                                                                                                                                                                                                                                                                                                                                                                                                                                                                                                                                                                           |\n",
       "| 154 | com.king.candycrushsaga                                                                                                                                                                                                                                                                                                                                                                                                                                                                                                                                                     |  complete bull was on 1186 and went to play and had lost all my boosters had over 100 different boosters saved up some i payed for never again                                                                                                                                                                                                                                                                                                                                                                                                                              | 0                                                                                                                                                                                                                                                                                                                                                                                                                                                                                                                                                                           |\n",
       "| 160 | com.imangi.templerun2                                                                                                                                                                                                                                                                                                                                                                                                                                                                                                                                                       |  book and their use as a great christmas navarro was gonna get a lot of different names for christmas is a screamer and i can't remember if my sis and baking and making everything so perfect for me to believe in things and i'll return to go over in a few minutes ago and i have a great day at home soon and their little room in the kids to school with your questions                                                                                                                                                                                              | 0                                                                                                                                                                                                                                                                                                                                                                                                                                                                                                                                                                           |\n",
       "| 180 | com.imangi.templerun2                                                                                                                                                                                                                                                                                                                                                                                                                                                                                                                                                       |  temple run -pretty good the game is fun.but i would like it if it didn't have so many videos for one specific app most of the time. it would also be nice if you could choose to be a boy or a girl character. overall the game is okay/pretty good                                                                                                                                                                                                                                                                                                                        | 0                                                                                                                                                                                                                                                                                                                                                                                                                                                                                                                                                                           |\n",
       "| 205 | com.supercell.clashofclans                                                                                                                                                                                                                                                                                                                                                                                                                                                                                                                                                  |   hey supercell i would like u to put in a skype in the clan chats when peaple r battleing because u could help them out because u see things they dont and some type of healing defense. and thx for the town hall 11 if u do 5 stars                                                                                                                                                                                                                                                                                                                                      | 0                                                                                                                                                                                                                                                                                                                                                                                                                                                                                                                                                                           |\n",
       "| 246 | com.android.chrome                                                                                                                                                                                                                                                                                                                                                                                                                                                                                                                                                          |  what is this? google is an oldest browser to search something so when we want to do something on puffin browser then what is the benifit to use it . plz make those things possible wich are possible on puffin especially for android phone.  i shall be thankful.                                                                                                                                                                                                                                                                                                        | 0                                                                                                                                                                                                                                                                                                                                                                                                                                                                                                                                                                           |\n",
       "| 251 | com.android.chrome                                                                                                                                                                                                                                                                                                                                                                                                                                                                                                                                                          |  cannot cast to chromecast of all the apps that chromecast supports, chrome browser is not supported? why? how am i supposed to cast my browser? use firefox? or worse wait for ie? fix it already chrome. come on!                                                                                                                                                                                                                                                                                                                                                         | 0                                                                                                                                                                                                                                                                                                                                                                                                                                                                                                                                                                           |\n",
       "| 272 | com.android.chrome                                                                                                                                                                                                                                                                                                                                                                                                                                                                                                                                                          |  average not so good for watching online videos for watching videos i would prefer stock aosp google browser or uc browser + mx player.                                                                                                                                                                                                                                                                                                                                                                                                                                     | 0                                                                                                                                                                                                                                                                                                                                                                                                                                                                                                                                                                           |\n",
       "| 278 | com.android.chrome                                                                                                                                                                                                                                                                                                                                                                                                                                                                                                                                                          |  translation use it for browsing and visiting viet and chinese and other country sites for translations, but using uc browser for downloading.. no other app can replace uc for fast downloading speed..                                                                                                                                                                                                                                                                                                                                                                    | 0                                                                                                                                                                                                                                                                                                                                                                                                                                                                                                                                                                           |\n",
       "| 417 | com.facebook.orca                                                                                                                                                                                                                                                                                                                                                                                                                                                                                                                                                           |  not good i had for a while but is not working keeps messing up my face book must have a big because i deleted and my face book works                                                                                                                                                                                                                                                                                                                                                                                                                                       | 0                                                                                                                                                                                                                                                                                                                                                                                                                                                                                                                                                                           |\n",
       "| 563 | jabanaki.todo.todoly                                                                                                                                                                                                                                                                                                                                                                                                                                                                                                                                                        |  has potential could be better but it conts to crash after some use. love the web version though!                                                                                                                                                                                                                                                                                                                                                                                                                                                                           | 0                                                                                                                                                                                                                                                                                                                                                                                                                                                                                                                                                                           |\n",
       "| 566 | jabanaki.todo.todoly                                                                                                                                                                                                                                                                                                                                                                                                                                                                                                                                                        |  dud on droid4 doesn't work on my new droid4                                                                                                                                                                                                                                                                                                                                                                                                                                                                                                                                | 0                                                                                                                                                                                                                                                                                                                                                                                                                                                                                                                                                                           |\n",
       "| 579 | jabanaki.todo.todoly                                                                                                                                                                                                                                                                                                                                                                                                                                                                                                                                                        |  won't authenticate i use the web app and wanted to have it on the go. it won't login. i checked my credentials and i can get in on the web, but not my phone.                                                                                                                                                                                                                                                                                                                                                                                                              | 0                                                                                                                                                                                                                                                                                                                                                                                                                                                                                                                                                                           |\n",
       "| 596 | com.evernote                                                                                                                                                                                                                                                                                                                                                                                                                                                                                                                                                                |  neat idea, but let-down by no linux support. an application like evernote is only as useful as the service behind it, and the service behind a concept like evernote is only as useful as the availability of an application or program to connect to said service... which is where evernote fails - it is not natively available for linux-based operating systems (such as ubuntu). sure, the android application works well enough - but when the only way to access evernote under a linux-based operating system is via a web browser, it quickly looses its appeal. | 0                                                                                                                                                                                                                                                                                                                                                                                                                                                                                                                                                                           |\n",
       "| 621 | com.uc.browser.en                                                                                                                                                                                                                                                                                                                                                                                                                                                                                                                                                           |  disappointed first of all i'd like to thank the creators of the uc browser for this is the best browser that i have ever used. now why 3 stars ,because i was planning to download a game but uc browser can't download it. the page loads but no downloads and i have to use mozilla because of this particular reason..i want to give you guys a five star but until you fix this i will just give you 3 star...thank you ....just please help me with  this one i want to use only one browser.                                                                         | 0                                                                                                                                                                                                                                                                                                                                                                                                                                                                                                                                                                           |\n",
       "| 626 | com.uc.browser.en                                                                                                                                                                                                                                                                                                                                                                                                                                                                                                                                                           |  best browser in short size i cut 1 star because i am facing some issue in downloading two items at the same. 1 item's downloading speed is good but another's speed is very slow.                                                                                                                                                                                                                                                                                                                                                                                          | 0                                                                                                                                                                                                                                                                                                                                                                                                                                                                                                                                                                           |\n",
       "| 711 | com.opera.mini.native                                                                                                                                                                                                                                                                                                                                                                                                                                                                                                                                                       |  saved pages list should be in alphabetical order as well as in newest to oldest order.... dear opera mini, i hold back one star for not giving us a choice to view the saved pages list in alphabetical order as well as in newest to oldest order. please improve on that one thing and i would love to rate five stars to this beautiful browser opera mini.                                                                                                                                                                                                             | 0                                                                                                                                                                                                                                                                                                                                                                                                                                                                                                                                                                           |\n",
       "| 716 | com.opera.mini.native                                                                                                                                                                                                                                                                                                                                                                                                                                                                                                                                                       |  night mode this app is really good actually, but why the night mode doesn't work? what ashame đľ                                                                                                                                                                                                                                                                                                                                                                                                                                                               | 0                                                                                                                                                                                                                                                                                                                                                                                                                                                                                                                                                                           |\n",
       "| 721 | com.opera.mini.native                                                                                                                                                                                                                                                                                                                                                                                                                                                                                                                                                       |  fonts why in the heck is this thing analysing my fonts??? not really quick browsing when i have to wait 5minutes for the fonts to load. are you asking my opinion? avoid this. terrible                                                                                                                                                                                                                                                                                                                                                                                    | 0                                                                                                                                                                                                                                                                                                                                                                                                                                                                                                                                                                           |\n",
       "| 725 | com.opera.mini.native                                                                                                                                                                                                                                                                                                                                                                                                                                                                                                                                                       |  i want the old theme back!!!!! this theme is awful. previously opera mini was the best browser but now i think it's worst. no, i don't want to see the news or anything. just return the old opera mini back. you just make it awesome to awful.                                                                                                                                                                                                                                                                                                                           | 0                                                                                                                                                                                                                                                                                                                                                                                                                                                                                                                                                                           |\n",
       "| 741 | com.shirantech.kantipur                                                                                                                                                                                                                                                                                                                                                                                                                                                                                                                                                     |  too much pop up add average app with too much advertisement. one star for the app and 5 star for the pop up advertisement.                                                                                                                                                                                                                                                                                                                                                                                                                                                 | 0                                                                                                                                                                                                                                                                                                                                                                                                                                                                                                                                                                           |\n",
       "| 782 | org.mozilla.firefox                                                                                                                                                                                                                                                                                                                                                                                                                                                                                                                                                         |  firefox is getting better ... slowly it crashes regularly. it doesn't play video on youtube. otherwise it is a promising fast browser, i still miss the gestures/swipes and a well organized homepage with my selected bookmarks (see ucbrowser hd)                                                                                                                                                                                                                                                                                                                        | 0                                                                                                                                                                                                                                                                                                                                                                                                                                                                                                                                                                           |\n",
       "| 863 | com.rovio.angrybirds                                                                                                                                                                                                                                                                                                                                                                                                                                                                                                                                                        |  awesome game but... this is such a great game but there are way to many adds every time you get passed a level there's another add but even with all the adds it's still an amazing game                                                                                                                                                                                                                                                                                                                                                                                   | 0                                                                                                                                                                                                                                                                                                                                                                                                                                                                                                                                                                           |\n",
       "| 877 | com.rovio.angrybirds                                                                                                                                                                                                                                                                                                                                                                                                                                                                                                                                                        |  2many adds. great game ruined by too many adds! way too many adds now. not even fun anymore. was great, now it's terrible.                                                                                                                                                                                                                                                                                                                                                                                                                                                 | 0                                                                                                                                                                                                                                                                                                                                                                                                                                                                                                                                                                           |\n",
       "\n"
      ],
      "text/plain": [
       "    package_name              \n",
       "36  com.facebook.katana       \n",
       "154 com.king.candycrushsaga   \n",
       "160 com.imangi.templerun2     \n",
       "180 com.imangi.templerun2     \n",
       "205 com.supercell.clashofclans\n",
       "246 com.android.chrome        \n",
       "251 com.android.chrome        \n",
       "272 com.android.chrome        \n",
       "278 com.android.chrome        \n",
       "417 com.facebook.orca         \n",
       "563 jabanaki.todo.todoly      \n",
       "566 jabanaki.todo.todoly      \n",
       "579 jabanaki.todo.todoly      \n",
       "596 com.evernote              \n",
       "621 com.uc.browser.en         \n",
       "626 com.uc.browser.en         \n",
       "711 com.opera.mini.native     \n",
       "716 com.opera.mini.native     \n",
       "721 com.opera.mini.native     \n",
       "725 com.opera.mini.native     \n",
       "741 com.shirantech.kantipur   \n",
       "782 org.mozilla.firefox       \n",
       "863 com.rovio.angrybirds      \n",
       "877 com.rovio.angrybirds      \n",
       "    review                                                                                                                                                                                                                                                                                                                                                                                                                                                                                                                                                                     \n",
       "36   not good its previous version (12.0.0.15.14) is much good than that. i can't text directly with current version. please add the inbuilt messenger again in the app.                                                                                                                                                                                                                                                                                                                                                                                                       \n",
       "154  complete bull was on 1186 and went to play and had lost all my boosters had over 100 different boosters saved up some i payed for never again                                                                                                                                                                                                                                                                                                                                                                                                                             \n",
       "160  book and their use as a great christmas navarro was gonna get a lot of different names for christmas is a screamer and i can't remember if my sis and baking and making everything so perfect for me to believe in things and i'll return to go over in a few minutes ago and i have a great day at home soon and their little room in the kids to school with your questions                                                                                                                                                                                             \n",
       "180  temple run -pretty good the game is fun.but i would like it if it didn't have so many videos for one specific app most of the time. it would also be nice if you could choose to be a boy or a girl character. overall the game is okay/pretty good                                                                                                                                                                                                                                                                                                                       \n",
       "205   hey supercell i would like u to put in a skype in the clan chats when peaple r battleing because u could help them out because u see things they dont and some type of healing defense. and thx for the town hall 11 if u do 5 stars                                                                                                                                                                                                                                                                                                                                     \n",
       "246  what is this? google is an oldest browser to search something so when we want to do something on puffin browser then what is the benifit to use it . plz make those things possible wich are possible on puffin especially for android phone.  i shall be thankful.                                                                                                                                                                                                                                                                                                       \n",
       "251  cannot cast to chromecast of all the apps that chromecast supports, chrome browser is not supported? why? how am i supposed to cast my browser? use firefox? or worse wait for ie? fix it already chrome. come on!                                                                                                                                                                                                                                                                                                                                                        \n",
       "272  average not so good for watching online videos for watching videos i would prefer stock aosp google browser or uc browser + mx player.                                                                                                                                                                                                                                                                                                                                                                                                                                    \n",
       "278  translation use it for browsing and visiting viet and chinese and other country sites for translations, but using uc browser for downloading.. no other app can replace uc for fast downloading speed..                                                                                                                                                                                                                                                                                                                                                                   \n",
       "417  not good i had for a while but is not working keeps messing up my face book must have a big because i deleted and my face book works                                                                                                                                                                                                                                                                                                                                                                                                                                      \n",
       "563  has potential could be better but it conts to crash after some use. love the web version though!                                                                                                                                                                                                                                                                                                                                                                                                                                                                          \n",
       "566  dud on droid4 doesn't work on my new droid4                                                                                                                                                                                                                                                                                                                                                                                                                                                                                                                               \n",
       "579  won't authenticate i use the web app and wanted to have it on the go. it won't login. i checked my credentials and i can get in on the web, but not my phone.                                                                                                                                                                                                                                                                                                                                                                                                             \n",
       "596  neat idea, but let-down by no linux support. an application like evernote is only as useful as the service behind it, and the service behind a concept like evernote is only as useful as the availability of an application or program to connect to said service... which is where evernote fails - it is not natively available for linux-based operating systems (such as ubuntu). sure, the android application works well enough - but when the only way to access evernote under a linux-based operating system is via a web browser, it quickly looses its appeal.\n",
       "621  disappointed first of all i'd like to thank the creators of the uc browser for this is the best browser that i have ever used. now why 3 stars ,because i was planning to download a game but uc browser can't download it. the page loads but no downloads and i have to use mozilla because of this particular reason..i want to give you guys a five star but until you fix this i will just give you 3 star...thank you ....just please help me with  this one i want to use only one browser.                                                                        \n",
       "626  best browser in short size i cut 1 star because i am facing some issue in downloading two items at the same. 1 item's downloading speed is good but another's speed is very slow.                                                                                                                                                                                                                                                                                                                                                                                         \n",
       "711  saved pages list should be in alphabetical order as well as in newest to oldest order.... dear opera mini, i hold back one star for not giving us a choice to view the saved pages list in alphabetical order as well as in newest to oldest order. please improve on that one thing and i would love to rate five stars to this beautiful browser opera mini.                                                                                                                                                                                                            \n",
       "716  night mode this app is really good actually, but why the night mode doesn't work? what ashame đ\\u009f\\u0098ľ                                                                                                                                                                                                                                                                                                                                                                                                                                                              \n",
       "721  fonts why in the heck is this thing analysing my fonts??? not really quick browsing when i have to wait 5minutes for the fonts to load. are you asking my opinion? avoid this. terrible                                                                                                                                                                                                                                                                                                                                                                                   \n",
       "725  i want the old theme back!!!!! this theme is awful. previously opera mini was the best browser but now i think it's worst. no, i don't want to see the news or anything. just return the old opera mini back. you just make it awesome to awful.                                                                                                                                                                                                                                                                                                                          \n",
       "741  too much pop up add average app with too much advertisement. one star for the app and 5 star for the pop up advertisement.                                                                                                                                                                                                                                                                                                                                                                                                                                                \n",
       "782  firefox is getting better ... slowly it crashes regularly. it doesn't play video on youtube. otherwise it is a promising fast browser, i still miss the gestures/swipes and a well organized homepage with my selected bookmarks (see ucbrowser hd)                                                                                                                                                                                                                                                                                                                       \n",
       "863  awesome game but... this is such a great game but there are way to many adds every time you get passed a level there's another add but even with all the adds it's still an amazing game                                                                                                                                                                                                                                                                                                                                                                                  \n",
       "877  2many adds. great game ruined by too many adds! way too many adds now. not even fun anymore. was great, now it's terrible.                                                                                                                                                                                                                                                                                                                                                                                                                                                \n",
       "    polarity\n",
       "36  0       \n",
       "154 0       \n",
       "160 0       \n",
       "180 0       \n",
       "205 0       \n",
       "246 0       \n",
       "251 0       \n",
       "272 0       \n",
       "278 0       \n",
       "417 0       \n",
       "563 0       \n",
       "566 0       \n",
       "579 0       \n",
       "596 0       \n",
       "621 0       \n",
       "626 0       \n",
       "711 0       \n",
       "716 0       \n",
       "721 0       \n",
       "725 0       \n",
       "741 0       \n",
       "782 0       \n",
       "863 0       \n",
       "877 0       "
      ]
     },
     "metadata": {},
     "output_type": "display_data"
    }
   ],
   "source": [
    "data.test[(subject_test.predicted != data.test$polarity) \n",
    "          & (data.test$polarity == 0),]"
   ]
  },
  {
   "cell_type": "markdown",
   "id": "677af935",
   "metadata": {},
   "source": [
    "El problema con las reviews neutras es que tienen palabras clave que se asocian con una review muy buena, como puede ser la review 563, en la que comenta que le encanta la versión web, y una review muy mala, comentando como le crashea la app.\n",
    "\n",
    "Si el modelo identifica dos palabras que forman parte de la clase 1 juntas en una review neutra, es normal que la clasifica como clase 1, ya que no sabe diferenciar entre review muy buena y muy mala (estan las dos juntas en una misma clase). Eso hace que, si en una misma review tenemos un comentario buena + un comentario malo es o sea igual a neutro (nuestro modelo no es capaz de hacer dicha reflexión)."
   ]
  },
  {
   "cell_type": "code",
   "execution_count": 518,
   "id": "8021725a",
   "metadata": {
    "vscode": {
     "languageId": "r"
    }
   },
   "outputs": [
    {
     "data": {
      "text/html": [
       "<table>\n",
       "<thead><tr><th></th><th scope=col>package_name</th><th scope=col>review</th><th scope=col>polarity</th></tr></thead>\n",
       "<tbody>\n",
       "\t<tr><th scope=row>74</th><td>com.twitter.android                                                                                                                                                                                                                                                                                                                                                                                                                                                                                     </td><td> love it you are able to see celebrity tweets and get info you didn't know... i love it                                                                                                                                                                                                                                                                                                                                                                                                                 </td><td>1                                                                                                                                                                                                                                                                                                                                                                                                                                                                                                       </td></tr>\n",
       "\t<tr><th scope=row>106</th><td>com.linkedin.android                                                                                                                                                                                                                                                                                                                                                                                                                                                                                    </td><td> it is fine.. and getting better.. working quite well for me at the minute. i liked the recent layout changes and messaging facilities. websites links are handled better and able to open in browser as well. the problem with notifications still exists.  i can't tell if someone accepted my connection request or send me an invitation. notifications appear for a second and go away.                                                                                                            </td><td>1                                                                                                                                                                                                                                                                                                                                                                                                                                                                                                       </td></tr>\n",
       "\t<tr><th scope=row>114</th><td>com.linkedin.android                                                                                                                                                                                                                                                                                                                                                                                                                                                                                    </td><td> groups??? ** edit: i changed my rating from one to three stars due to linkedin's response to my review. glad groups is still in the app but i dont iike that it is not as straightforward to access them as before.                                                                                                                                                                                                                                                                                    </td><td>1                                                                                                                                                                                                                                                                                                                                                                                                                                                                                                       </td></tr>\n",
       "\t<tr><th scope=row>176</th><td>com.imangi.templerun2                                                                                                                                                                                                                                                                                                                                                                                                                                                                                   </td><td> it's alrightđ¤ i don't get to go on the cross wire i've got to 200 000 why why why.,đ˘đđđđâ â â đđľđşđăđđi forgot to tell u no sound on this game ........i hate it                                                                                                      </td><td>1                                                                                                                                                                                                                                                                                                                                                                                                                                                                                                       </td></tr>\n",
       "\t<tr><th scope=row>186</th><td>com.imangi.templerun2                                                                                                                                                                                                                                                                                                                                                                                                                                                                                   </td><td> old is gold i used to play this game a lot when iwas nearly in 4 std but even after 4 years when i'm in 8 the this game still continues to be my fav . i really never get tired of playing this as u know now that this is my fav.                                                                                                                                                                                                                                                                     </td><td>1                                                                                                                                                                                                                                                                                                                                                                                                                                                                                                       </td></tr>\n",
       "\t<tr><th scope=row>189</th><td>com.imangi.templerun2                                                                                                                                                                                                                                                                                                                                                                                                                                                                                   </td><td> everyone able to see  highest score i would like to given one idea ,i could not saw everyone higher score atleast 1 to 5 member,  i want to see each and everyone highest score through on my mobile , if you create this option, everyone will be try to achive the highest score ,i hope you will be create this option of temple run 2                                                                                                                                                              </td><td>1                                                                                                                                                                                                                                                                                                                                                                                                                                                                                                       </td></tr>\n",
       "\t<tr><th scope=row>343</th><td>com.viber.voip                                                                                                                                                                                                                                                                                                                                                                                                                                                                                          </td><td> i love viber viber is an excellent chatting software. only one tiny negative comment for you. sometimes it takes a delay to reach message even online.  stickers are so cool...                                                                                                                                                                                                                                                                                                                        </td><td>1                                                                                                                                                                                                                                                                                                                                                                                                                                                                                                       </td></tr>\n",
       "\t<tr><th scope=row>358</th><td>com.google.android.talk                                                                                                                                                                                                                                                                                                                                                                                                                                                                                 </td><td> won't make calls i have 5 bars on verizon 4g but it keeps saying can not connect call.  so far had only connected 1 call when i had 1 bar and the other person couldn't hear me. i have tried at over 20 different locations in the city i live in all around 4 or 5 bars.  no calls can be made.  fix this.                                                                                                                                                                                           </td><td>1                                                                                                                                                                                                                                                                                                                                                                                                                                                                                                       </td></tr>\n",
       "\t<tr><th scope=row>403</th><td>com.facebook.orca                                                                                                                                                                                                                                                                                                                                                                                                                                                                                       </td><td> does what it says it does, but chat heads have limitations. the issue i have almost everyday is that when a conversation is open in a chat head, you can not paste what is copied to your clipboard. everything is works fine enough.                                                                                                                                                                                                                                                                  </td><td>1                                                                                                                                                                                                                                                                                                                                                                                                                                                                                                       </td></tr>\n",
       "\t<tr><th scope=row>455</th><td>com.whatsapp                                                                                                                                                                                                                                                                                                                                                                                                                                                                                            </td><td> good its very good to use .   but i found some fualts .  while writing lengthy status ,the words which we enter at starting will not be visible. so to edit those words we should slide through the text we have written .  so make status editing line step by step instead a single line.                                                                                                                                                                                                            </td><td>1                                                                                                                                                                                                                                                                                                                                                                                                                                                                                                       </td></tr>\n",
       "\t<tr><th scope=row>482</th><td>com.Slack                                                                                                                                                                                                                                                                                                                                                                                                                                                                                               </td><td> great features, but my notifications don't work title says it all, the app says i should be getting the notifications on my phone but i'm not getting any. would rate 5 stars if this was resolved.                                                                                                                                                                                                                                                                                                    </td><td>1                                                                                                                                                                                                                                                                                                                                                                                                                                                                                                       </td></tr>\n",
       "\t<tr><th scope=row>534</th><td>com.dropbox.android                                                                                                                                                                                                                                                                                                                                                                                                                                                                                     </td><td> it's brilliant. take a photo on my phone and within a minute it's on my pc at home. file? same, make a change on a file on my phone and its changed on the file at home.  this app makes the above so easy. no issues, crashes or problems .... just great.                                                                                                                                                                                                                                            </td><td>1                                                                                                                                                                                                                                                                                                                                                                                                                                                                                                       </td></tr>\n",
       "\t<tr><th scope=row>587</th><td>com.evernote                                                                                                                                                                                                                                                                                                                                                                                                                                                                                            </td><td> widget sabotaged this app functions ok as a note-taker. i access it primarily through its widget. the old widget was great, giving a peek at a few recent notes. then that widget was killed off, and replaced with a widget that shows only the titles of 2 recent notes, with maybe just part of the title of a third note, and no content at all. it shows poor judgment for a company to downgrade its product for no apparent reason. also, there's no undo button.                               </td><td>1                                                                                                                                                                                                                                                                                                                                                                                                                                                                                                       </td></tr>\n",
       "\t<tr><th scope=row>593</th><td>com.evernote                                                                                                                                                                                                                                                                                                                                                                                                                                                                                            </td><td> too much going on its cool it works but ony using it because i have to its got way to much going on for a note pad.. adds in useless irrelevant information like i made a note on a friends birthday now it says from so and sos birthday but it works great just wish it was just a plain jane note pad like the one htc used this app to replace. if there was a way to over complicate a note pad app they did it.it works great like i said and it takes some getting used to and it grows on you..</td><td>1                                                                                                                                                                                                                                                                                                                                                                                                                                                                                                       </td></tr>\n",
       "\t<tr><th scope=row>623</th><td>com.uc.browser.en                                                                                                                                                                                                                                                                                                                                                                                                                                                                                       </td><td> good good for slow connection this uc minilite version does not take much space/memory in ram. it is faster also than uc.                                                                                                                                                                                                                                                                                                                                                                              </td><td>1                                                                                                                                                                                                                                                                                                                                                                                                                                                                                                       </td></tr>\n",
       "\t<tr><th scope=row>658</th><td>com.uc.browser.en                                                                                                                                                                                                                                                                                                                                                                                                                                                                                       </td><td> almost, but not quite. this has so much potential, but i really would like a back function that works, i press back and wait, nothing happens. i press back again and it takes me to the homepage,  same for the back button on the tablet,  i'm using a 1st gen nexus 7.                                                                                                                                                                                                                              </td><td>1                                                                                                                                                                                                                                                                                                                                                                                                                                                                                                       </td></tr>\n",
       "\t<tr><th scope=row>679</th><td>com.hamrokeyboard                                                                                                                                                                                                                                                                                                                                                                                                                                                                                       </td><td>  i found this app very fruitful.. and m using it but can you please tell me how to write ŕ¤ŕ¤§ŕ¤ž ŕ¤ŕ¤ŕľŕ¤ˇŕ¤°                                                                                                                                                                                                                                                                                                                                                                 </td><td>1                                                                                                                                                                                                                                                                                                                                                                                                                                                                                                       </td></tr>\n",
       "\t<tr><th scope=row>699</th><td>com.opera.mini.native                                                                                                                                                                                                                                                                                                                                                                                                                                                                                   </td><td>  almost every time i scroll on a webpage, the copy dialog appears at the top of the page. also i don't care for the new tab opened/switch, popup that appears on the screen when i open another tab. i think that should be in the opera mini settings menu.                                                                                                                                                                                                                                           </td><td>1                                                                                                                                                                                                                                                                                                                                                                                                                                                                                                       </td></tr>\n",
       "\t<tr><th scope=row>795</th><td><span style=white-space:pre-wrap>org.mozilla.firefox    </span>                                                                                                                                                                                                                                                                                                                                                                                                                                                                                     </td><td><span style=white-space:pre-wrap>  i've used firefox on all my mobile devices and computers for years, but since this latest update it's become unusable on my galaxy note 10.1.  links either don't work or take you to a different link on the page and the tops &amp; bottoms of pages are obscured so only around a third of the page is visible and search boxes can't be accessed.  i hate the idea of changing to chrome etc, but my tablet has been rendered useless for browsing. please sort it out mozilla.                       </span></td><td>1                                                                                                                                                                                                                                                                                                                                                                                                                                                                                                                                                   </td></tr>\n",
       "\t<tr><th scope=row>819</th><td><span style=white-space:pre-wrap>com.hamropatro         </span>                                                                                                                                                                                                                                                                                                                                                                                                                                                                                     </td><td><span style=white-space:pre-wrap> currency convertor not working! it only shows nepali rupess in both the spaces &amp; refuses to change. was working fine before. pls fix this                                                                                                                                                                                                                                                                                                                                                              </span></td><td>1                                                                                                                                                                                                                                                                                                                                                                                                                                                                                                                                                   </td></tr>\n",
       "</tbody>\n",
       "</table>\n"
      ],
      "text/latex": [
       "\\begin{tabular}{r|lll}\n",
       "  & package\\_name & review & polarity\\\\\n",
       "\\hline\n",
       "\t74 & com.twitter.android                                                                                                                                                                                                                                                                                                                                                                                                                                                                                      &  love it you are able to see celebrity tweets and get info you didn't know... i love it                                                                                                                                                                                                                                                                                                                                                                                                                  & 1                                                                                                                                                                                                                                                                                                                                                                                                                                                                                                       \\\\\n",
       "\t106 & com.linkedin.android                                                                                                                                                                                                                                                                                                                                                                                                                                                                                     &  it is fine.. and getting better.. working quite well for me at the minute. i liked the recent layout changes and messaging facilities. websites links are handled better and able to open in browser as well. the problem with notifications still exists.  i can't tell if someone accepted my connection request or send me an invitation. notifications appear for a second and go away.                                                                                                             & 1                                                                                                                                                                                                                                                                                                                                                                                                                                                                                                       \\\\\n",
       "\t114 & com.linkedin.android                                                                                                                                                                                                                                                                                                                                                                                                                                                                                     &  groups??? ** edit: i changed my rating from one to three stars due to linkedin's response to my review. glad groups is still in the app but i dont iike that it is not as straightforward to access them as before.                                                                                                                                                                                                                                                                                     & 1                                                                                                                                                                                                                                                                                                                                                                                                                                                                                                       \\\\\n",
       "\t176 & com.imangi.templerun2                                                                                                                                                                                                                                                                                                                                                                                                                                                                                    &  it's alrightđ¤ i don't get to go on the cross wire i've got to 200 000 why why why.,đ˘đđđđâ â â đđľđşđăđđi forgot to tell u no sound on this game ........i hate it                                                                                                       & 1                                                                                                                                                                                                                                                                                                                                                                                                                                                                                                       \\\\\n",
       "\t186 & com.imangi.templerun2                                                                                                                                                                                                                                                                                                                                                                                                                                                                                    &  old is gold i used to play this game a lot when iwas nearly in 4 std but even after 4 years when i'm in 8 the this game still continues to be my fav . i really never get tired of playing this as u know now that this is my fav.                                                                                                                                                                                                                                                                      & 1                                                                                                                                                                                                                                                                                                                                                                                                                                                                                                       \\\\\n",
       "\t189 & com.imangi.templerun2                                                                                                                                                                                                                                                                                                                                                                                                                                                                                    &  everyone able to see  highest score i would like to given one idea ,i could not saw everyone higher score atleast 1 to 5 member,  i want to see each and everyone highest score through on my mobile , if you create this option, everyone will be try to achive the highest score ,i hope you will be create this option of temple run 2                                                                                                                                                               & 1                                                                                                                                                                                                                                                                                                                                                                                                                                                                                                       \\\\\n",
       "\t343 & com.viber.voip                                                                                                                                                                                                                                                                                                                                                                                                                                                                                           &  i love viber viber is an excellent chatting software. only one tiny negative comment for you. sometimes it takes a delay to reach message even online.  stickers are so cool...                                                                                                                                                                                                                                                                                                                         & 1                                                                                                                                                                                                                                                                                                                                                                                                                                                                                                       \\\\\n",
       "\t358 & com.google.android.talk                                                                                                                                                                                                                                                                                                                                                                                                                                                                                  &  won't make calls i have 5 bars on verizon 4g but it keeps saying can not connect call.  so far had only connected 1 call when i had 1 bar and the other person couldn't hear me. i have tried at over 20 different locations in the city i live in all around 4 or 5 bars.  no calls can be made.  fix this.                                                                                                                                                                                            & 1                                                                                                                                                                                                                                                                                                                                                                                                                                                                                                       \\\\\n",
       "\t403 & com.facebook.orca                                                                                                                                                                                                                                                                                                                                                                                                                                                                                        &  does what it says it does, but chat heads have limitations. the issue i have almost everyday is that when a conversation is open in a chat head, you can not paste what is copied to your clipboard. everything is works fine enough.                                                                                                                                                                                                                                                                   & 1                                                                                                                                                                                                                                                                                                                                                                                                                                                                                                       \\\\\n",
       "\t455 & com.whatsapp                                                                                                                                                                                                                                                                                                                                                                                                                                                                                             &  good its very good to use .   but i found some fualts .  while writing lengthy status ,the words which we enter at starting will not be visible. so to edit those words we should slide through the text we have written .  so make status editing line step by step instead a single line.                                                                                                                                                                                                             & 1                                                                                                                                                                                                                                                                                                                                                                                                                                                                                                       \\\\\n",
       "\t482 & com.Slack                                                                                                                                                                                                                                                                                                                                                                                                                                                                                                &  great features, but my notifications don't work title says it all, the app says i should be getting the notifications on my phone but i'm not getting any. would rate 5 stars if this was resolved.                                                                                                                                                                                                                                                                                                     & 1                                                                                                                                                                                                                                                                                                                                                                                                                                                                                                       \\\\\n",
       "\t534 & com.dropbox.android                                                                                                                                                                                                                                                                                                                                                                                                                                                                                      &  it's brilliant. take a photo on my phone and within a minute it's on my pc at home. file? same, make a change on a file on my phone and its changed on the file at home.  this app makes the above so easy. no issues, crashes or problems .... just great.                                                                                                                                                                                                                                             & 1                                                                                                                                                                                                                                                                                                                                                                                                                                                                                                       \\\\\n",
       "\t587 & com.evernote                                                                                                                                                                                                                                                                                                                                                                                                                                                                                             &  widget sabotaged this app functions ok as a note-taker. i access it primarily through its widget. the old widget was great, giving a peek at a few recent notes. then that widget was killed off, and replaced with a widget that shows only the titles of 2 recent notes, with maybe just part of the title of a third note, and no content at all. it shows poor judgment for a company to downgrade its product for no apparent reason. also, there's no undo button.                                & 1                                                                                                                                                                                                                                                                                                                                                                                                                                                                                                       \\\\\n",
       "\t593 & com.evernote                                                                                                                                                                                                                                                                                                                                                                                                                                                                                             &  too much going on its cool it works but ony using it because i have to its got way to much going on for a note pad.. adds in useless irrelevant information like i made a note on a friends birthday now it says from so and sos birthday but it works great just wish it was just a plain jane note pad like the one htc used this app to replace. if there was a way to over complicate a note pad app they did it.it works great like i said and it takes some getting used to and it grows on you.. & 1                                                                                                                                                                                                                                                                                                                                                                                                                                                                                                       \\\\\n",
       "\t623 & com.uc.browser.en                                                                                                                                                                                                                                                                                                                                                                                                                                                                                        &  good good for slow connection this uc minilite version does not take much space/memory in ram. it is faster also than uc.                                                                                                                                                                                                                                                                                                                                                                               & 1                                                                                                                                                                                                                                                                                                                                                                                                                                                                                                       \\\\\n",
       "\t658 & com.uc.browser.en                                                                                                                                                                                                                                                                                                                                                                                                                                                                                        &  almost, but not quite. this has so much potential, but i really would like a back function that works, i press back and wait, nothing happens. i press back again and it takes me to the homepage,  same for the back button on the tablet,  i'm using a 1st gen nexus 7.                                                                                                                                                                                                                               & 1                                                                                                                                                                                                                                                                                                                                                                                                                                                                                                       \\\\\n",
       "\t679 & com.hamrokeyboard                                                                                                                                                                                                                                                                                                                                                                                                                                                                                        &   i found this app very fruitful.. and m using it but can you please tell me how to write ŕ¤ŕ¤§ŕ¤ž ŕ¤ŕ¤ŕľŕ¤ˇŕ¤°                                                                                                                                                                                                                                                                                                                                                                  & 1                                                                                                                                                                                                                                                                                                                                                                                                                                                                                                       \\\\\n",
       "\t699 & com.opera.mini.native                                                                                                                                                                                                                                                                                                                                                                                                                                                                                    &   almost every time i scroll on a webpage, the copy dialog appears at the top of the page. also i don't care for the new tab opened/switch, popup that appears on the screen when i open another tab. i think that should be in the opera mini settings menu.                                                                                                                                                                                                                                            & 1                                                                                                                                                                                                                                                                                                                                                                                                                                                                                                       \\\\\n",
       "\t795 & org.mozilla.firefox                                                                                                                                                                                                                                                                                                                                                                                                                                                                                        &   i've used firefox on all my mobile devices and computers for years, but since this latest update it's become unusable on my galaxy note 10.1.  links either don't work or take you to a different link on the page and the tops \\& bottoms of pages are obscured so only around a third of the page is visible and search boxes can't be accessed.  i hate the idea of changing to chrome etc, but my tablet has been rendered useless for browsing. please sort it out mozilla.                        & 1                                                                                                                                                                                                                                                                                                                                                                                                                                                                                                         \\\\\n",
       "\t819 & com.hamropatro                                                                                                                                                                                                                                                                                                                                                                                                                                                                                             &  currency convertor not working! it only shows nepali rupess in both the spaces \\& refuses to change. was working fine before. pls fix this                                                                                                                                                                                                                                                                                                                                                               & 1                                                                                                                                                                                                                                                                                                                                                                                                                                                                                                         \\\\\n",
       "\\end{tabular}\n"
      ],
      "text/markdown": [
       "\n",
       "| <!--/--> | package_name | review | polarity |\n",
       "|---|---|---|---|\n",
       "| 74 | com.twitter.android                                                                                                                                                                                                                                                                                                                                                                                                                                                                                      |  love it you are able to see celebrity tweets and get info you didn't know... i love it                                                                                                                                                                                                                                                                                                                                                                                                                  | 1                                                                                                                                                                                                                                                                                                                                                                                                                                                                                                        |\n",
       "| 106 | com.linkedin.android                                                                                                                                                                                                                                                                                                                                                                                                                                                                                     |  it is fine.. and getting better.. working quite well for me at the minute. i liked the recent layout changes and messaging facilities. websites links are handled better and able to open in browser as well. the problem with notifications still exists.  i can't tell if someone accepted my connection request or send me an invitation. notifications appear for a second and go away.                                                                                                             | 1                                                                                                                                                                                                                                                                                                                                                                                                                                                                                                        |\n",
       "| 114 | com.linkedin.android                                                                                                                                                                                                                                                                                                                                                                                                                                                                                     |  groups??? ** edit: i changed my rating from one to three stars due to linkedin's response to my review. glad groups is still in the app but i dont iike that it is not as straightforward to access them as before.                                                                                                                                                                                                                                                                                     | 1                                                                                                                                                                                                                                                                                                                                                                                                                                                                                                        |\n",
       "| 176 | com.imangi.templerun2                                                                                                                                                                                                                                                                                                                                                                                                                                                                                    |  it's alrightđ¤ i don't get to go on the cross wire i've got to 200 000 why why why.,đ˘đđđđâ â â đđľđşđăđđi forgot to tell u no sound on this game ........i hate it                                                                                                       | 1                                                                                                                                                                                                                                                                                                                                                                                                                                                                                                        |\n",
       "| 186 | com.imangi.templerun2                                                                                                                                                                                                                                                                                                                                                                                                                                                                                    |  old is gold i used to play this game a lot when iwas nearly in 4 std but even after 4 years when i'm in 8 the this game still continues to be my fav . i really never get tired of playing this as u know now that this is my fav.                                                                                                                                                                                                                                                                      | 1                                                                                                                                                                                                                                                                                                                                                                                                                                                                                                        |\n",
       "| 189 | com.imangi.templerun2                                                                                                                                                                                                                                                                                                                                                                                                                                                                                    |  everyone able to see  highest score i would like to given one idea ,i could not saw everyone higher score atleast 1 to 5 member,  i want to see each and everyone highest score through on my mobile , if you create this option, everyone will be try to achive the highest score ,i hope you will be create this option of temple run 2                                                                                                                                                               | 1                                                                                                                                                                                                                                                                                                                                                                                                                                                                                                        |\n",
       "| 343 | com.viber.voip                                                                                                                                                                                                                                                                                                                                                                                                                                                                                           |  i love viber viber is an excellent chatting software. only one tiny negative comment for you. sometimes it takes a delay to reach message even online.  stickers are so cool...                                                                                                                                                                                                                                                                                                                         | 1                                                                                                                                                                                                                                                                                                                                                                                                                                                                                                        |\n",
       "| 358 | com.google.android.talk                                                                                                                                                                                                                                                                                                                                                                                                                                                                                  |  won't make calls i have 5 bars on verizon 4g but it keeps saying can not connect call.  so far had only connected 1 call when i had 1 bar and the other person couldn't hear me. i have tried at over 20 different locations in the city i live in all around 4 or 5 bars.  no calls can be made.  fix this.                                                                                                                                                                                            | 1                                                                                                                                                                                                                                                                                                                                                                                                                                                                                                        |\n",
       "| 403 | com.facebook.orca                                                                                                                                                                                                                                                                                                                                                                                                                                                                                        |  does what it says it does, but chat heads have limitations. the issue i have almost everyday is that when a conversation is open in a chat head, you can not paste what is copied to your clipboard. everything is works fine enough.                                                                                                                                                                                                                                                                   | 1                                                                                                                                                                                                                                                                                                                                                                                                                                                                                                        |\n",
       "| 455 | com.whatsapp                                                                                                                                                                                                                                                                                                                                                                                                                                                                                             |  good its very good to use .   but i found some fualts .  while writing lengthy status ,the words which we enter at starting will not be visible. so to edit those words we should slide through the text we have written .  so make status editing line step by step instead a single line.                                                                                                                                                                                                             | 1                                                                                                                                                                                                                                                                                                                                                                                                                                                                                                        |\n",
       "| 482 | com.Slack                                                                                                                                                                                                                                                                                                                                                                                                                                                                                                |  great features, but my notifications don't work title says it all, the app says i should be getting the notifications on my phone but i'm not getting any. would rate 5 stars if this was resolved.                                                                                                                                                                                                                                                                                                     | 1                                                                                                                                                                                                                                                                                                                                                                                                                                                                                                        |\n",
       "| 534 | com.dropbox.android                                                                                                                                                                                                                                                                                                                                                                                                                                                                                      |  it's brilliant. take a photo on my phone and within a minute it's on my pc at home. file? same, make a change on a file on my phone and its changed on the file at home.  this app makes the above so easy. no issues, crashes or problems .... just great.                                                                                                                                                                                                                                             | 1                                                                                                                                                                                                                                                                                                                                                                                                                                                                                                        |\n",
       "| 587 | com.evernote                                                                                                                                                                                                                                                                                                                                                                                                                                                                                             |  widget sabotaged this app functions ok as a note-taker. i access it primarily through its widget. the old widget was great, giving a peek at a few recent notes. then that widget was killed off, and replaced with a widget that shows only the titles of 2 recent notes, with maybe just part of the title of a third note, and no content at all. it shows poor judgment for a company to downgrade its product for no apparent reason. also, there's no undo button.                                | 1                                                                                                                                                                                                                                                                                                                                                                                                                                                                                                        |\n",
       "| 593 | com.evernote                                                                                                                                                                                                                                                                                                                                                                                                                                                                                             |  too much going on its cool it works but ony using it because i have to its got way to much going on for a note pad.. adds in useless irrelevant information like i made a note on a friends birthday now it says from so and sos birthday but it works great just wish it was just a plain jane note pad like the one htc used this app to replace. if there was a way to over complicate a note pad app they did it.it works great like i said and it takes some getting used to and it grows on you.. | 1                                                                                                                                                                                                                                                                                                                                                                                                                                                                                                        |\n",
       "| 623 | com.uc.browser.en                                                                                                                                                                                                                                                                                                                                                                                                                                                                                        |  good good for slow connection this uc minilite version does not take much space/memory in ram. it is faster also than uc.                                                                                                                                                                                                                                                                                                                                                                               | 1                                                                                                                                                                                                                                                                                                                                                                                                                                                                                                        |\n",
       "| 658 | com.uc.browser.en                                                                                                                                                                                                                                                                                                                                                                                                                                                                                        |  almost, but not quite. this has so much potential, but i really would like a back function that works, i press back and wait, nothing happens. i press back again and it takes me to the homepage,  same for the back button on the tablet,  i'm using a 1st gen nexus 7.                                                                                                                                                                                                                               | 1                                                                                                                                                                                                                                                                                                                                                                                                                                                                                                        |\n",
       "| 679 | com.hamrokeyboard                                                                                                                                                                                                                                                                                                                                                                                                                                                                                        |   i found this app very fruitful.. and m using it but can you please tell me how to write ŕ¤ŕ¤§ŕ¤ž ŕ¤ŕ¤ŕľŕ¤ˇŕ¤°                                                                                                                                                                                                                                                                                                                                                                  | 1                                                                                                                                                                                                                                                                                                                                                                                                                                                                                                        |\n",
       "| 699 | com.opera.mini.native                                                                                                                                                                                                                                                                                                                                                                                                                                                                                    |   almost every time i scroll on a webpage, the copy dialog appears at the top of the page. also i don't care for the new tab opened/switch, popup that appears on the screen when i open another tab. i think that should be in the opera mini settings menu.                                                                                                                                                                                                                                            | 1                                                                                                                                                                                                                                                                                                                                                                                                                                                                                                        |\n",
       "| 795 | org.mozilla.firefox                                                                                                                                                                                                                                                                                                                                                                                                                                                                                      |   i've used firefox on all my mobile devices and computers for years, but since this latest update it's become unusable on my galaxy note 10.1.  links either don't work or take you to a different link on the page and the tops & bottoms of pages are obscured so only around a third of the page is visible and search boxes can't be accessed.  i hate the idea of changing to chrome etc, but my tablet has been rendered useless for browsing. please sort it out mozilla.                        | 1                                                                                                                                                                                                                                                                                                                                                                                                                                                                                                        |\n",
       "| 819 | com.hamropatro                                                                                                                                                                                                                                                                                                                                                                                                                                                                                           |  currency convertor not working! it only shows nepali rupess in both the spaces & refuses to change. was working fine before. pls fix this                                                                                                                                                                                                                                                                                                                                                               | 1                                                                                                                                                                                                                                                                                                                                                                                                                                                                                                        |\n",
       "\n"
      ],
      "text/plain": [
       "    package_name           \n",
       "74  com.twitter.android    \n",
       "106 com.linkedin.android   \n",
       "114 com.linkedin.android   \n",
       "176 com.imangi.templerun2  \n",
       "186 com.imangi.templerun2  \n",
       "189 com.imangi.templerun2  \n",
       "343 com.viber.voip         \n",
       "358 com.google.android.talk\n",
       "403 com.facebook.orca      \n",
       "455 com.whatsapp           \n",
       "482 com.Slack              \n",
       "534 com.dropbox.android    \n",
       "587 com.evernote           \n",
       "593 com.evernote           \n",
       "623 com.uc.browser.en      \n",
       "658 com.uc.browser.en      \n",
       "679 com.hamrokeyboard      \n",
       "699 com.opera.mini.native  \n",
       "795 org.mozilla.firefox    \n",
       "819 com.hamropatro         \n",
       "    review                                                                                                                                                                                                                                                                                                                                                                                                                                                                                                  \n",
       "74   love it you are able to see celebrity tweets and get info you didn't know... i love it                                                                                                                                                                                                                                                                                                                                                                                                                 \n",
       "106  it is fine.. and getting better.. working quite well for me at the minute. i liked the recent layout changes and messaging facilities. websites links are handled better and able to open in browser as well. the problem with notifications still exists.  i can't tell if someone accepted my connection request or send me an invitation. notifications appear for a second and go away.                                                                                                            \n",
       "114  groups??? ** edit: i changed my rating from one to three stars due to linkedin's response to my review. glad groups is still in the app but i dont iike that it is not as straightforward to access them as before.                                                                                                                                                                                                                                                                                    \n",
       "176  it's alrightđ\\u009f\\u0098¤ i don't get to go on the cross wire i've got to 200 000 why why why.,đ\\u009f\\u0098˘đ\\u009f\\u0092\\u0080đ\\u009f\\u0092\\u0080đ\\u009f\\u0092\\u0080đ\\u009f\\u0092\\u0080â\\u009a â\\u009a â\\u009a đ\\u009f\\u0089\\u0090đ\\u009f\\u0088ľđ\\u009f\\u0088şđ\\u009f\\u0089\\u0091ă\\u008a\\u0099đ\\u009f\\u0089\\u0090đ\\u009f\\u0094\\u0087i forgot to tell u no sound on this game ........i hate it                                                                                                      \n",
       "186  old is gold i used to play this game a lot when iwas nearly in 4 std but even after 4 years when i'm in 8 the this game still continues to be my fav . i really never get tired of playing this as u know now that this is my fav.                                                                                                                                                                                                                                                                     \n",
       "189  everyone able to see  highest score i would like to given one idea ,i could not saw everyone higher score atleast 1 to 5 member,  i want to see each and everyone highest score through on my mobile , if you create this option, everyone will be try to achive the highest score ,i hope you will be create this option of temple run 2                                                                                                                                                              \n",
       "343  i love viber viber is an excellent chatting software. only one tiny negative comment for you. sometimes it takes a delay to reach message even online.  stickers are so cool...                                                                                                                                                                                                                                                                                                                        \n",
       "358  won't make calls i have 5 bars on verizon 4g but it keeps saying can not connect call.  so far had only connected 1 call when i had 1 bar and the other person couldn't hear me. i have tried at over 20 different locations in the city i live in all around 4 or 5 bars.  no calls can be made.  fix this.                                                                                                                                                                                           \n",
       "403  does what it says it does, but chat heads have limitations. the issue i have almost everyday is that when a conversation is open in a chat head, you can not paste what is copied to your clipboard. everything is works fine enough.                                                                                                                                                                                                                                                                  \n",
       "455  good its very good to use .   but i found some fualts .  while writing lengthy status ,the words which we enter at starting will not be visible. so to edit those words we should slide through the text we have written .  so make status editing line step by step instead a single line.                                                                                                                                                                                                            \n",
       "482  great features, but my notifications don't work title says it all, the app says i should be getting the notifications on my phone but i'm not getting any. would rate 5 stars if this was resolved.                                                                                                                                                                                                                                                                                                    \n",
       "534  it's brilliant. take a photo on my phone and within a minute it's on my pc at home. file? same, make a change on a file on my phone and its changed on the file at home.  this app makes the above so easy. no issues, crashes or problems .... just great.                                                                                                                                                                                                                                            \n",
       "587  widget sabotaged this app functions ok as a note-taker. i access it primarily through its widget. the old widget was great, giving a peek at a few recent notes. then that widget was killed off, and replaced with a widget that shows only the titles of 2 recent notes, with maybe just part of the title of a third note, and no content at all. it shows poor judgment for a company to downgrade its product for no apparent reason. also, there's no undo button.                               \n",
       "593  too much going on its cool it works but ony using it because i have to its got way to much going on for a note pad.. adds in useless irrelevant information like i made a note on a friends birthday now it says from so and sos birthday but it works great just wish it was just a plain jane note pad like the one htc used this app to replace. if there was a way to over complicate a note pad app they did it.it works great like i said and it takes some getting used to and it grows on you..\n",
       "623  good good for slow connection this uc minilite version does not take much space/memory in ram. it is faster also than uc.                                                                                                                                                                                                                                                                                                                                                                              \n",
       "658  almost, but not quite. this has so much potential, but i really would like a back function that works, i press back and wait, nothing happens. i press back again and it takes me to the homepage,  same for the back button on the tablet,  i'm using a 1st gen nexus 7.                                                                                                                                                                                                                              \n",
       "679   i found this app very fruitful.. and m using it but can you please tell me how to write ŕ¤\\u0086ŕ¤§ŕ¤ž ŕ¤\\u0085ŕ¤\\u0095ŕľ\\u008dŕ¤ˇŕ¤°                                                                                                                                                                                                                                                                                                                                                                 \n",
       "699   almost every time i scroll on a webpage, the copy dialog appears at the top of the page. also i don't care for the new tab opened/switch, popup that appears on the screen when i open another tab. i think that should be in the opera mini settings menu.                                                                                                                                                                                                                                           \n",
       "795   i've used firefox on all my mobile devices and computers for years, but since this latest update it's become unusable on my galaxy note 10.1.  links either don't work or take you to a different link on the page and the tops & bottoms of pages are obscured so only around a third of the page is visible and search boxes can't be accessed.  i hate the idea of changing to chrome etc, but my tablet has been rendered useless for browsing. please sort it out mozilla.                       \n",
       "819  currency convertor not working! it only shows nepali rupess in both the spaces & refuses to change. was working fine before. pls fix this                                                                                                                                                                                                                                                                                                                                                              \n",
       "    polarity\n",
       "74  1       \n",
       "106 1       \n",
       "114 1       \n",
       "176 1       \n",
       "186 1       \n",
       "189 1       \n",
       "343 1       \n",
       "358 1       \n",
       "403 1       \n",
       "455 1       \n",
       "482 1       \n",
       "534 1       \n",
       "587 1       \n",
       "593 1       \n",
       "623 1       \n",
       "658 1       \n",
       "679 1       \n",
       "699 1       \n",
       "795 1       \n",
       "819 1       "
      ]
     },
     "metadata": {},
     "output_type": "display_data"
    }
   ],
   "source": [
    "data.test[(subject_test.predicted != data.test$polarity) \n",
    "          & (data.test$polarity == 1),]"
   ]
  },
  {
   "cell_type": "markdown",
   "id": "4dd81dff",
   "metadata": {},
   "source": [
    "## 3. Optimización del modelo\n"
   ]
  },
  {
   "cell_type": "code",
   "execution_count": 519,
   "id": "62122bdc",
   "metadata": {
    "vscode": {
     "languageId": "r"
    }
   },
   "outputs": [
    {
     "name": "stdout",
     "output_type": "stream",
     "text": [
      "[1] \"Laplace factor of 0\"\n",
      "Confusion Matrix and Statistics\n",
      "\n",
      "          Reference\n",
      "Prediction   0   1\n",
      "         0 151  20\n",
      "         1  24  72\n",
      "                                          \n",
      "               Accuracy : 0.8352          \n",
      "                 95% CI : (0.7852, 0.8776)\n",
      "    No Information Rate : 0.6554          \n",
      "    P-Value [Acc > NIR] : 4.334e-11       \n",
      "                                          \n",
      "                  Kappa : 0.6389          \n",
      "                                          \n",
      " Mcnemar's Test P-Value : 0.6511          \n",
      "                                          \n",
      "            Sensitivity : 0.8629          \n",
      "            Specificity : 0.7826          \n",
      "         Pos Pred Value : 0.8830          \n",
      "         Neg Pred Value : 0.7500          \n",
      "             Prevalence : 0.6554          \n",
      "         Detection Rate : 0.5655          \n",
      "   Detection Prevalence : 0.6404          \n",
      "      Balanced Accuracy : 0.8227          \n",
      "                                          \n",
      "       'Positive' Class : 0               \n",
      "                                          \n",
      "[1] \"Laplace factor of 0.25\"\n",
      "Confusion Matrix and Statistics\n",
      "\n",
      "          Reference\n",
      "Prediction   0   1\n",
      "         0 151  19\n",
      "         1  24  73\n",
      "                                          \n",
      "               Accuracy : 0.839           \n",
      "                 95% CI : (0.7893, 0.8809)\n",
      "    No Information Rate : 0.6554          \n",
      "    P-Value [Acc > NIR] : 1.595e-11       \n",
      "                                          \n",
      "                  Kappa : 0.648           \n",
      "                                          \n",
      " Mcnemar's Test P-Value : 0.5419          \n",
      "                                          \n",
      "            Sensitivity : 0.8629          \n",
      "            Specificity : 0.7935          \n",
      "         Pos Pred Value : 0.8882          \n",
      "         Neg Pred Value : 0.7526          \n",
      "             Prevalence : 0.6554          \n",
      "         Detection Rate : 0.5655          \n",
      "   Detection Prevalence : 0.6367          \n",
      "      Balanced Accuracy : 0.8282          \n",
      "                                          \n",
      "       'Positive' Class : 0               \n",
      "                                          \n",
      "[1] \"Laplace factor of 0.5\"\n",
      "Confusion Matrix and Statistics\n",
      "\n",
      "          Reference\n",
      "Prediction   0   1\n",
      "         0 150  19\n",
      "         1  25  73\n",
      "                                          \n",
      "               Accuracy : 0.8352          \n",
      "                 95% CI : (0.7852, 0.8776)\n",
      "    No Information Rate : 0.6554          \n",
      "    P-Value [Acc > NIR] : 4.334e-11       \n",
      "                                          \n",
      "                  Kappa : 0.6407          \n",
      "                                          \n",
      " Mcnemar's Test P-Value : 0.451           \n",
      "                                          \n",
      "            Sensitivity : 0.8571          \n",
      "            Specificity : 0.7935          \n",
      "         Pos Pred Value : 0.8876          \n",
      "         Neg Pred Value : 0.7449          \n",
      "             Prevalence : 0.6554          \n",
      "         Detection Rate : 0.5618          \n",
      "   Detection Prevalence : 0.6330          \n",
      "      Balanced Accuracy : 0.8253          \n",
      "                                          \n",
      "       'Positive' Class : 0               \n",
      "                                          \n",
      "[1] \"Laplace factor of 0.75\"\n",
      "Confusion Matrix and Statistics\n",
      "\n",
      "          Reference\n",
      "Prediction   0   1\n",
      "         0 150  19\n",
      "         1  25  73\n",
      "                                          \n",
      "               Accuracy : 0.8352          \n",
      "                 95% CI : (0.7852, 0.8776)\n",
      "    No Information Rate : 0.6554          \n",
      "    P-Value [Acc > NIR] : 4.334e-11       \n",
      "                                          \n",
      "                  Kappa : 0.6407          \n",
      "                                          \n",
      " Mcnemar's Test P-Value : 0.451           \n",
      "                                          \n",
      "            Sensitivity : 0.8571          \n",
      "            Specificity : 0.7935          \n",
      "         Pos Pred Value : 0.8876          \n",
      "         Neg Pred Value : 0.7449          \n",
      "             Prevalence : 0.6554          \n",
      "         Detection Rate : 0.5618          \n",
      "   Detection Prevalence : 0.6330          \n",
      "      Balanced Accuracy : 0.8253          \n",
      "                                          \n",
      "       'Positive' Class : 0               \n",
      "                                          \n",
      "[1] \"Laplace factor of 1\"\n",
      "Confusion Matrix and Statistics\n",
      "\n",
      "          Reference\n",
      "Prediction   0   1\n",
      "         0 150  19\n",
      "         1  25  73\n",
      "                                          \n",
      "               Accuracy : 0.8352          \n",
      "                 95% CI : (0.7852, 0.8776)\n",
      "    No Information Rate : 0.6554          \n",
      "    P-Value [Acc > NIR] : 4.334e-11       \n",
      "                                          \n",
      "                  Kappa : 0.6407          \n",
      "                                          \n",
      " Mcnemar's Test P-Value : 0.451           \n",
      "                                          \n",
      "            Sensitivity : 0.8571          \n",
      "            Specificity : 0.7935          \n",
      "         Pos Pred Value : 0.8876          \n",
      "         Neg Pred Value : 0.7449          \n",
      "             Prevalence : 0.6554          \n",
      "         Detection Rate : 0.5618          \n",
      "   Detection Prevalence : 0.6330          \n",
      "      Balanced Accuracy : 0.8253          \n",
      "                                          \n",
      "       'Positive' Class : 0               \n",
      "                                          \n",
      "[1] \"Laplace factor of 1.25\"\n",
      "Confusion Matrix and Statistics\n",
      "\n",
      "          Reference\n",
      "Prediction   0   1\n",
      "         0 150  19\n",
      "         1  25  73\n",
      "                                          \n",
      "               Accuracy : 0.8352          \n",
      "                 95% CI : (0.7852, 0.8776)\n",
      "    No Information Rate : 0.6554          \n",
      "    P-Value [Acc > NIR] : 4.334e-11       \n",
      "                                          \n",
      "                  Kappa : 0.6407          \n",
      "                                          \n",
      " Mcnemar's Test P-Value : 0.451           \n",
      "                                          \n",
      "            Sensitivity : 0.8571          \n",
      "            Specificity : 0.7935          \n",
      "         Pos Pred Value : 0.8876          \n",
      "         Neg Pred Value : 0.7449          \n",
      "             Prevalence : 0.6554          \n",
      "         Detection Rate : 0.5618          \n",
      "   Detection Prevalence : 0.6330          \n",
      "      Balanced Accuracy : 0.8253          \n",
      "                                          \n",
      "       'Positive' Class : 0               \n",
      "                                          \n",
      "[1] \"Laplace factor of 1.5\"\n",
      "Confusion Matrix and Statistics\n",
      "\n",
      "          Reference\n",
      "Prediction   0   1\n",
      "         0 151  20\n",
      "         1  24  72\n",
      "                                          \n",
      "               Accuracy : 0.8352          \n",
      "                 95% CI : (0.7852, 0.8776)\n",
      "    No Information Rate : 0.6554          \n",
      "    P-Value [Acc > NIR] : 4.334e-11       \n",
      "                                          \n",
      "                  Kappa : 0.6389          \n",
      "                                          \n",
      " Mcnemar's Test P-Value : 0.6511          \n",
      "                                          \n",
      "            Sensitivity : 0.8629          \n",
      "            Specificity : 0.7826          \n",
      "         Pos Pred Value : 0.8830          \n",
      "         Neg Pred Value : 0.7500          \n",
      "             Prevalence : 0.6554          \n",
      "         Detection Rate : 0.5655          \n",
      "   Detection Prevalence : 0.6404          \n",
      "      Balanced Accuracy : 0.8227          \n",
      "                                          \n",
      "       'Positive' Class : 0               \n",
      "                                          \n",
      "[1] \"Laplace factor of 1.75\"\n",
      "Confusion Matrix and Statistics\n",
      "\n",
      "          Reference\n",
      "Prediction   0   1\n",
      "         0 151  20\n",
      "         1  24  72\n",
      "                                          \n",
      "               Accuracy : 0.8352          \n",
      "                 95% CI : (0.7852, 0.8776)\n",
      "    No Information Rate : 0.6554          \n",
      "    P-Value [Acc > NIR] : 4.334e-11       \n",
      "                                          \n",
      "                  Kappa : 0.6389          \n",
      "                                          \n",
      " Mcnemar's Test P-Value : 0.6511          \n",
      "                                          \n",
      "            Sensitivity : 0.8629          \n",
      "            Specificity : 0.7826          \n",
      "         Pos Pred Value : 0.8830          \n",
      "         Neg Pred Value : 0.7500          \n",
      "             Prevalence : 0.6554          \n",
      "         Detection Rate : 0.5655          \n",
      "   Detection Prevalence : 0.6404          \n",
      "      Balanced Accuracy : 0.8227          \n",
      "                                          \n",
      "       'Positive' Class : 0               \n",
      "                                          \n",
      "[1] \"Laplace factor of 2\"\n",
      "Confusion Matrix and Statistics\n",
      "\n",
      "          Reference\n",
      "Prediction   0   1\n",
      "         0 151  20\n",
      "         1  24  72\n",
      "                                          \n",
      "               Accuracy : 0.8352          \n",
      "                 95% CI : (0.7852, 0.8776)\n",
      "    No Information Rate : 0.6554          \n",
      "    P-Value [Acc > NIR] : 4.334e-11       \n",
      "                                          \n",
      "                  Kappa : 0.6389          \n",
      "                                          \n",
      " Mcnemar's Test P-Value : 0.6511          \n",
      "                                          \n",
      "            Sensitivity : 0.8629          \n",
      "            Specificity : 0.7826          \n",
      "         Pos Pred Value : 0.8830          \n",
      "         Neg Pred Value : 0.7500          \n",
      "             Prevalence : 0.6554          \n",
      "         Detection Rate : 0.5655          \n",
      "   Detection Prevalence : 0.6404          \n",
      "      Balanced Accuracy : 0.8227          \n",
      "                                          \n",
      "       'Positive' Class : 0               \n",
      "                                          \n",
      "[1] \"Laplace factor of 2.25\"\n",
      "Confusion Matrix and Statistics\n",
      "\n",
      "          Reference\n",
      "Prediction   0   1\n",
      "         0 151  20\n",
      "         1  24  72\n",
      "                                          \n",
      "               Accuracy : 0.8352          \n",
      "                 95% CI : (0.7852, 0.8776)\n",
      "    No Information Rate : 0.6554          \n",
      "    P-Value [Acc > NIR] : 4.334e-11       \n",
      "                                          \n",
      "                  Kappa : 0.6389          \n",
      "                                          \n",
      " Mcnemar's Test P-Value : 0.6511          \n",
      "                                          \n",
      "            Sensitivity : 0.8629          \n",
      "            Specificity : 0.7826          \n",
      "         Pos Pred Value : 0.8830          \n",
      "         Neg Pred Value : 0.7500          \n",
      "             Prevalence : 0.6554          \n",
      "         Detection Rate : 0.5655          \n",
      "   Detection Prevalence : 0.6404          \n",
      "      Balanced Accuracy : 0.8227          \n",
      "                                          \n",
      "       'Positive' Class : 0               \n",
      "                                          \n"
     ]
    }
   ],
   "source": [
    "for (i in (1:10))\n",
    "{\n",
    "    print(paste0(\"Laplace factor of \", as.character((i-1)/4)))\n",
    "    sms_classifier2 = naiveBayes(reduced_dtm.train, \n",
    "                                 data.train$polarity,\n",
    "                                 laplace = (i-1)/4)\n",
    "    \n",
    "    sms_test.predicted2 = predict(sms_classifier2,\n",
    "                                  reduced_dtm.test)\n",
    "    \n",
    "    print(confusionMatrix(sms_test.predicted2, data.test$polarity))\n",
    "}"
   ]
  },
  {
   "cell_type": "markdown",
   "id": "8c69d942",
   "metadata": {},
   "source": [
    "En este caso, si usamos Laplace Smoothing, mejoramos ínfimamente el modelo (de 83,25% a 83,9% de accuracy). Igualmente, no esta mejorando el aspecto que hemos comentando (saber diferenciar mejor las de la clase 1 que la clase 0). "
   ]
  },
  {
   "cell_type": "markdown",
   "id": "49e55beb",
   "metadata": {},
   "source": [
    "Aun así, vamos a ver como se comporta nuestro modelo, pero en este caso con la mejor versión (con el laplace smoothing indicado) y dijándonos app por app."
   ]
  },
  {
   "cell_type": "code",
   "execution_count": 521,
   "id": "326fa37a",
   "metadata": {
    "vscode": {
     "languageId": "r"
    }
   },
   "outputs": [],
   "source": [
    "sms_classifier2 = naiveBayes(reduced_dtm.train, \n",
    "                                 data.train$polarity,\n",
    "                                 laplace = 0.25)\n",
    "    \n",
    "    sms_test.predicted2 = predict(sms_classifier2,\n",
    "                                  reduced_dtm.test)"
   ]
  },
  {
   "cell_type": "code",
   "execution_count": 523,
   "id": "586a6b12",
   "metadata": {
    "vscode": {
     "languageId": "r"
    }
   },
   "outputs": [
    {
     "name": "stdout",
     "output_type": "stream",
     "text": [
      "Processing App: com.facebook.katana \n",
      "Confusion Matrix and Statistics\n",
      "\n",
      "          Reference\n",
      "Prediction  0  1\n",
      "         0 17  0\n",
      "         1  1  0\n",
      "                                          \n",
      "               Accuracy : 0.9444          \n",
      "                 95% CI : (0.7271, 0.9986)\n",
      "    No Information Rate : 1               \n",
      "    P-Value [Acc > NIR] : 1               \n",
      "                                          \n",
      "                  Kappa : 0               \n",
      "                                          \n",
      " Mcnemar's Test P-Value : 1               \n",
      "                                          \n",
      "            Sensitivity : 0.9444          \n",
      "            Specificity :     NA          \n",
      "         Pos Pred Value :     NA          \n",
      "         Neg Pred Value :     NA          \n",
      "             Prevalence : 1.0000          \n",
      "         Detection Rate : 0.9444          \n",
      "   Detection Prevalence : 0.9444          \n",
      "      Balanced Accuracy :     NA          \n",
      "                                          \n",
      "       'Positive' Class : 0               \n",
      "                                          \n",
      "Processing App: com.twitter.android \n",
      "Confusion Matrix and Statistics\n",
      "\n",
      "          Reference\n",
      "Prediction  0  1\n",
      "         0 12  1\n",
      "         1  0  0\n",
      "                                          \n",
      "               Accuracy : 0.9231          \n",
      "                 95% CI : (0.6397, 0.9981)\n",
      "    No Information Rate : 0.9231          \n",
      "    P-Value [Acc > NIR] : 0.736           \n",
      "                                          \n",
      "                  Kappa : 0               \n",
      "                                          \n",
      " Mcnemar's Test P-Value : 1.000           \n",
      "                                          \n",
      "            Sensitivity : 1.0000          \n",
      "            Specificity : 0.0000          \n",
      "         Pos Pred Value : 0.9231          \n",
      "         Neg Pred Value :    NaN          \n",
      "             Prevalence : 0.9231          \n",
      "         Detection Rate : 0.9231          \n",
      "   Detection Prevalence : 1.0000          \n",
      "      Balanced Accuracy : 0.5000          \n",
      "                                          \n",
      "       'Positive' Class : 0               \n",
      "                                          \n",
      "Processing App: com.linkedin.android \n",
      "Confusion Matrix and Statistics\n",
      "\n",
      "          Reference\n",
      "Prediction  0  1\n",
      "         0 10  2\n",
      "         1  0  0\n",
      "                                          \n",
      "               Accuracy : 0.8333          \n",
      "                 95% CI : (0.5159, 0.9791)\n",
      "    No Information Rate : 0.8333          \n",
      "    P-Value [Acc > NIR] : 0.6774          \n",
      "                                          \n",
      "                  Kappa : 0               \n",
      "                                          \n",
      " Mcnemar's Test P-Value : 0.4795          \n",
      "                                          \n",
      "            Sensitivity : 1.0000          \n",
      "            Specificity : 0.0000          \n",
      "         Pos Pred Value : 0.8333          \n",
      "         Neg Pred Value :    NaN          \n",
      "             Prevalence : 0.8333          \n",
      "         Detection Rate : 0.8333          \n",
      "   Detection Prevalence : 1.0000          \n",
      "      Balanced Accuracy : 0.5000          \n",
      "                                          \n",
      "       'Positive' Class : 0               \n",
      "                                          \n",
      "Processing App: com.king.candycrushsaga \n",
      "Confusion Matrix and Statistics\n",
      "\n",
      "          Reference\n",
      "Prediction 0 1\n",
      "         0 9 0\n",
      "         1 1 1\n",
      "                                          \n",
      "               Accuracy : 0.9091          \n",
      "                 95% CI : (0.5872, 0.9977)\n",
      "    No Information Rate : 0.9091          \n",
      "    P-Value [Acc > NIR] : 0.736           \n",
      "                                          \n",
      "                  Kappa : 0.6207          \n",
      "                                          \n",
      " Mcnemar's Test P-Value : 1.000           \n",
      "                                          \n",
      "            Sensitivity : 0.9000          \n",
      "            Specificity : 1.0000          \n",
      "         Pos Pred Value : 1.0000          \n",
      "         Neg Pred Value : 0.5000          \n",
      "             Prevalence : 0.9091          \n",
      "         Detection Rate : 0.8182          \n",
      "   Detection Prevalence : 0.8182          \n",
      "      Balanced Accuracy : 0.9500          \n",
      "                                          \n",
      "       'Positive' Class : 0               \n",
      "                                          \n",
      "Processing App: com.imangi.templerun2 \n",
      "Confusion Matrix and Statistics\n",
      "\n",
      "          Reference\n",
      "Prediction 0 1\n",
      "         0 3 3\n",
      "         1 2 3\n",
      "                                          \n",
      "               Accuracy : 0.5455          \n",
      "                 95% CI : (0.2338, 0.8325)\n",
      "    No Information Rate : 0.5455          \n",
      "    P-Value [Acc > NIR] : 0.6214          \n",
      "                                          \n",
      "                  Kappa : 0.0984          \n",
      "                                          \n",
      " Mcnemar's Test P-Value : 1.0000          \n",
      "                                          \n",
      "            Sensitivity : 0.6000          \n",
      "            Specificity : 0.5000          \n",
      "         Pos Pred Value : 0.5000          \n",
      "         Neg Pred Value : 0.6000          \n",
      "             Prevalence : 0.4545          \n",
      "         Detection Rate : 0.2727          \n",
      "   Detection Prevalence : 0.5455          \n",
      "      Balanced Accuracy : 0.5500          \n",
      "                                          \n",
      "       'Positive' Class : 0               \n",
      "                                          \n",
      "Processing App: com.supercell.clashofclans \n",
      "Confusion Matrix and Statistics\n",
      "\n",
      "          Reference\n",
      "Prediction 0 1\n",
      "         0 9 0\n",
      "         1 1 0\n",
      "                                         \n",
      "               Accuracy : 0.9            \n",
      "                 95% CI : (0.555, 0.9975)\n",
      "    No Information Rate : 1              \n",
      "    P-Value [Acc > NIR] : 1              \n",
      "                                         \n",
      "                  Kappa : 0              \n",
      "                                         \n",
      " Mcnemar's Test P-Value : 1              \n",
      "                                         \n",
      "            Sensitivity : 0.9            \n",
      "            Specificity :  NA            \n",
      "         Pos Pred Value :  NA            \n",
      "         Neg Pred Value :  NA            \n",
      "             Prevalence : 1.0            \n",
      "         Detection Rate : 0.9            \n",
      "   Detection Prevalence : 0.9            \n",
      "      Balanced Accuracy :  NA            \n",
      "                                         \n",
      "       'Positive' Class : 0              \n",
      "                                         \n",
      "Processing App: com.android.chrome \n",
      "Confusion Matrix and Statistics\n",
      "\n",
      "          Reference\n",
      "Prediction 0 1\n",
      "         0 8 0\n",
      "         1 4 1\n",
      "                                          \n",
      "               Accuracy : 0.6923          \n",
      "                 95% CI : (0.3857, 0.9091)\n",
      "    No Information Rate : 0.9231          \n",
      "    P-Value [Acc > NIR] : 0.9980          \n",
      "                                          \n",
      "                  Kappa : 0.2353          \n",
      "                                          \n",
      " Mcnemar's Test P-Value : 0.1336          \n",
      "                                          \n",
      "            Sensitivity : 0.6667          \n",
      "            Specificity : 1.0000          \n",
      "         Pos Pred Value : 1.0000          \n",
      "         Neg Pred Value : 0.2000          \n",
      "             Prevalence : 0.9231          \n",
      "         Detection Rate : 0.6154          \n",
      "   Detection Prevalence : 0.6154          \n",
      "      Balanced Accuracy : 0.8333          \n",
      "                                          \n",
      "       'Positive' Class : 0               \n",
      "                                          \n",
      "Processing App: com.tencent.mm \n",
      "Confusion Matrix and Statistics\n",
      "\n",
      "          Reference\n",
      "Prediction  0  1\n",
      "         0 11  0\n",
      "         1  0  0\n",
      "                                     \n",
      "               Accuracy : 1          \n",
      "                 95% CI : (0.7151, 1)\n",
      "    No Information Rate : 1          \n",
      "    P-Value [Acc > NIR] : 1          \n",
      "                                     \n",
      "                  Kappa : NaN        \n",
      "                                     \n",
      " Mcnemar's Test P-Value : NA         \n",
      "                                     \n",
      "            Sensitivity :  1         \n",
      "            Specificity : NA         \n",
      "         Pos Pred Value : NA         \n",
      "         Neg Pred Value : NA         \n",
      "             Prevalence :  1         \n",
      "         Detection Rate :  1         \n",
      "   Detection Prevalence :  1         \n",
      "      Balanced Accuracy : NA         \n",
      "                                     \n",
      "       'Positive' Class : 0          \n",
      "                                     \n",
      "Processing App: com.viber.voip \n",
      "Confusion Matrix and Statistics\n",
      "\n",
      "          Reference\n",
      "Prediction 0 1\n",
      "         0 8 1\n",
      "         1 0 1\n",
      "                                         \n",
      "               Accuracy : 0.9            \n",
      "                 95% CI : (0.555, 0.9975)\n",
      "    No Information Rate : 0.8            \n",
      "    P-Value [Acc > NIR] : 0.3758         \n",
      "                                         \n",
      "                  Kappa : 0.6154         \n",
      "                                         \n",
      " Mcnemar's Test P-Value : 1.0000         \n",
      "                                         \n",
      "            Sensitivity : 1.0000         \n",
      "            Specificity : 0.5000         \n",
      "         Pos Pred Value : 0.8889         \n",
      "         Neg Pred Value : 1.0000         \n",
      "             Prevalence : 0.8000         \n",
      "         Detection Rate : 0.8000         \n",
      "   Detection Prevalence : 0.9000         \n",
      "      Balanced Accuracy : 0.7500         \n",
      "                                         \n",
      "       'Positive' Class : 0              \n",
      "                                         \n",
      "Processing App: com.google.android.talk \n",
      "Confusion Matrix and Statistics\n",
      "\n",
      "          Reference\n",
      "Prediction 0 1\n",
      "         0 9 1\n",
      "         1 0 0\n",
      "                                         \n",
      "               Accuracy : 0.9            \n",
      "                 95% CI : (0.555, 0.9975)\n",
      "    No Information Rate : 0.9            \n",
      "    P-Value [Acc > NIR] : 0.7361         \n",
      "                                         \n",
      "                  Kappa : 0              \n",
      "                                         \n",
      " Mcnemar's Test P-Value : 1.0000         \n",
      "                                         \n",
      "            Sensitivity : 1.0            \n",
      "            Specificity : 0.0            \n",
      "         Pos Pred Value : 0.9            \n",
      "         Neg Pred Value : NaN            \n",
      "             Prevalence : 0.9            \n",
      "         Detection Rate : 0.9            \n",
      "   Detection Prevalence : 1.0            \n",
      "      Balanced Accuracy : 0.5            \n",
      "                                         \n",
      "       'Positive' Class : 0              \n",
      "                                         \n",
      "Processing App: com.facebook.orca \n",
      "Confusion Matrix and Statistics\n",
      "\n",
      "          Reference\n",
      "Prediction 0 1\n",
      "         0 7 1\n",
      "         1 1 0\n",
      "                                          \n",
      "               Accuracy : 0.7778          \n",
      "                 95% CI : (0.3999, 0.9719)\n",
      "    No Information Rate : 0.8889          \n",
      "    P-Value [Acc > NIR] : 0.9311          \n",
      "                                          \n",
      "                  Kappa : -0.125          \n",
      "                                          \n",
      " Mcnemar's Test P-Value : 1.0000          \n",
      "                                          \n",
      "            Sensitivity : 0.8750          \n",
      "            Specificity : 0.0000          \n",
      "         Pos Pred Value : 0.8750          \n",
      "         Neg Pred Value : 0.0000          \n",
      "             Prevalence : 0.8889          \n",
      "         Detection Rate : 0.7778          \n",
      "   Detection Prevalence : 0.8889          \n",
      "      Balanced Accuracy : 0.4375          \n",
      "                                          \n",
      "       'Positive' Class : 0               \n",
      "                                          \n",
      "Processing App: com.whatsapp \n",
      "Confusion Matrix and Statistics\n",
      "\n",
      "          Reference\n",
      "Prediction  0  1\n",
      "         0 10  1\n",
      "         1  0  2\n",
      "                                          \n",
      "               Accuracy : 0.9231          \n",
      "                 95% CI : (0.6397, 0.9981)\n",
      "    No Information Rate : 0.7692          \n",
      "    P-Value [Acc > NIR] : 0.1618          \n",
      "                                          \n",
      "                  Kappa : 0.7547          \n",
      "                                          \n",
      " Mcnemar's Test P-Value : 1.0000          \n",
      "                                          \n",
      "            Sensitivity : 1.0000          \n",
      "            Specificity : 0.6667          \n",
      "         Pos Pred Value : 0.9091          \n",
      "         Neg Pred Value : 1.0000          \n",
      "             Prevalence : 0.7692          \n",
      "         Detection Rate : 0.7692          \n",
      "   Detection Prevalence : 0.8462          \n",
      "      Balanced Accuracy : 0.8333          \n",
      "                                          \n",
      "       'Positive' Class : 0               \n",
      "                                          \n",
      "Processing App: com.Slack \n",
      "Confusion Matrix and Statistics\n",
      "\n",
      "          Reference\n",
      "Prediction 0 1\n",
      "         0 1 1\n",
      "         1 0 6\n",
      "                                          \n",
      "               Accuracy : 0.875           \n",
      "                 95% CI : (0.4735, 0.9968)\n",
      "    No Information Rate : 0.875           \n",
      "    P-Value [Acc > NIR] : 0.7363          \n",
      "                                          \n",
      "                  Kappa : 0.6             \n",
      "                                          \n",
      " Mcnemar's Test P-Value : 1.0000          \n",
      "                                          \n",
      "            Sensitivity : 1.0000          \n",
      "            Specificity : 0.8571          \n",
      "         Pos Pred Value : 0.5000          \n",
      "         Neg Pred Value : 1.0000          \n",
      "             Prevalence : 0.1250          \n",
      "         Detection Rate : 0.1250          \n",
      "   Detection Prevalence : 0.2500          \n",
      "      Balanced Accuracy : 0.9286          \n",
      "                                          \n",
      "       'Positive' Class : 0               \n",
      "                                          \n",
      "Processing App: com.dropbox.android \n",
      "Confusion Matrix and Statistics\n",
      "\n",
      "          Reference\n",
      "Prediction 0 1\n",
      "         0 4 1\n",
      "         1 0 5\n",
      "                                         \n",
      "               Accuracy : 0.9            \n",
      "                 95% CI : (0.555, 0.9975)\n",
      "    No Information Rate : 0.6            \n",
      "    P-Value [Acc > NIR] : 0.04636        \n",
      "                                         \n",
      "                  Kappa : 0.8            \n",
      "                                         \n",
      " Mcnemar's Test P-Value : 1.00000        \n",
      "                                         \n",
      "            Sensitivity : 1.0000         \n",
      "            Specificity : 0.8333         \n",
      "         Pos Pred Value : 0.8000         \n",
      "         Neg Pred Value : 1.0000         \n",
      "             Prevalence : 0.4000         \n",
      "         Detection Rate : 0.4000         \n",
      "   Detection Prevalence : 0.5000         \n",
      "      Balanced Accuracy : 0.9167         \n",
      "                                         \n",
      "       'Positive' Class : 0              \n",
      "                                         \n",
      "Processing App: jabanaki.todo.todoly \n",
      "Confusion Matrix and Statistics\n",
      "\n",
      "          Reference\n",
      "Prediction 0 1\n",
      "         0 2 0\n",
      "         1 3 2\n",
      "                                         \n",
      "               Accuracy : 0.5714         \n",
      "                 95% CI : (0.1841, 0.901)\n",
      "    No Information Rate : 0.7143         \n",
      "    P-Value [Acc > NIR] : 0.8917         \n",
      "                                         \n",
      "                  Kappa : 0.2759         \n",
      "                                         \n",
      " Mcnemar's Test P-Value : 0.2482         \n",
      "                                         \n",
      "            Sensitivity : 0.4000         \n",
      "            Specificity : 1.0000         \n",
      "         Pos Pred Value : 1.0000         \n",
      "         Neg Pred Value : 0.4000         \n",
      "             Prevalence : 0.7143         \n",
      "         Detection Rate : 0.2857         \n",
      "   Detection Prevalence : 0.2857         \n",
      "      Balanced Accuracy : 0.7000         \n",
      "                                         \n",
      "       'Positive' Class : 0              \n",
      "                                         \n",
      "Processing App: com.evernote \n",
      "Confusion Matrix and Statistics\n",
      "\n",
      "          Reference\n",
      "Prediction 0 1\n",
      "         0 1 1\n",
      "         1 1 9\n",
      "                                          \n",
      "               Accuracy : 0.8333          \n",
      "                 95% CI : (0.5159, 0.9791)\n",
      "    No Information Rate : 0.8333          \n",
      "    P-Value [Acc > NIR] : 0.6774          \n",
      "                                          \n",
      "                  Kappa : 0.4             \n",
      "                                          \n",
      " Mcnemar's Test P-Value : 1.0000          \n",
      "                                          \n",
      "            Sensitivity : 0.50000         \n",
      "            Specificity : 0.90000         \n",
      "         Pos Pred Value : 0.50000         \n",
      "         Neg Pred Value : 0.90000         \n",
      "             Prevalence : 0.16667         \n",
      "         Detection Rate : 0.08333         \n",
      "   Detection Prevalence : 0.16667         \n",
      "      Balanced Accuracy : 0.70000         \n",
      "                                          \n",
      "       'Positive' Class : 0               \n",
      "                                          \n",
      "Processing App: com.uc.browser.en \n",
      "Confusion Matrix and Statistics\n",
      "\n",
      "          Reference\n",
      "Prediction 0 1\n",
      "         0 3 2\n",
      "         1 2 4\n",
      "                                          \n",
      "               Accuracy : 0.6364          \n",
      "                 95% CI : (0.3079, 0.8907)\n",
      "    No Information Rate : 0.5455          \n",
      "    P-Value [Acc > NIR] : 0.3853          \n",
      "                                          \n",
      "                  Kappa : 0.2667          \n",
      "                                          \n",
      " Mcnemar's Test P-Value : 1.0000          \n",
      "                                          \n",
      "            Sensitivity : 0.6000          \n",
      "            Specificity : 0.6667          \n",
      "         Pos Pred Value : 0.6000          \n",
      "         Neg Pred Value : 0.6667          \n",
      "             Prevalence : 0.4545          \n",
      "         Detection Rate : 0.2727          \n",
      "   Detection Prevalence : 0.4545          \n",
      "      Balanced Accuracy : 0.6333          \n",
      "                                          \n",
      "       'Positive' Class : 0               \n",
      "                                          \n",
      "Processing App: com.hamrokeyboard \n",
      "Confusion Matrix and Statistics\n",
      "\n",
      "          Reference\n",
      "Prediction 0 1\n",
      "         0 0 1\n",
      "         1 0 8\n",
      "                                          \n",
      "               Accuracy : 0.8889          \n",
      "                 95% CI : (0.5175, 0.9972)\n",
      "    No Information Rate : 1               \n",
      "    P-Value [Acc > NIR] : 1               \n",
      "                                          \n",
      "                  Kappa : 0               \n",
      "                                          \n",
      " Mcnemar's Test P-Value : 1               \n",
      "                                          \n",
      "            Sensitivity :     NA          \n",
      "            Specificity : 0.8889          \n",
      "         Pos Pred Value :     NA          \n",
      "         Neg Pred Value :     NA          \n",
      "             Prevalence : 0.0000          \n",
      "         Detection Rate : 0.0000          \n",
      "   Detection Prevalence : 0.1111          \n",
      "      Balanced Accuracy :     NA          \n",
      "                                          \n",
      "       'Positive' Class : 0               \n",
      "                                          \n",
      "Processing App: com.opera.mini.native \n",
      "Confusion Matrix and Statistics\n",
      "\n",
      "          Reference\n",
      "Prediction 0 1\n",
      "         0 9 1\n",
      "         1 4 2\n",
      "                                          \n",
      "               Accuracy : 0.6875          \n",
      "                 95% CI : (0.4134, 0.8898)\n",
      "    No Information Rate : 0.8125          \n",
      "    P-Value [Acc > NIR] : 0.9373          \n",
      "                                          \n",
      "                  Kappa : 0.2593          \n",
      "                                          \n",
      " Mcnemar's Test P-Value : 0.3711          \n",
      "                                          \n",
      "            Sensitivity : 0.6923          \n",
      "            Specificity : 0.6667          \n",
      "         Pos Pred Value : 0.9000          \n",
      "         Neg Pred Value : 0.3333          \n",
      "             Prevalence : 0.8125          \n",
      "         Detection Rate : 0.5625          \n",
      "   Detection Prevalence : 0.6250          \n",
      "      Balanced Accuracy : 0.6795          \n",
      "                                          \n",
      "       'Positive' Class : 0               \n",
      "                                          \n",
      "Processing App: com.shirantech.kantipur \n",
      "Confusion Matrix and Statistics\n",
      "\n",
      "          Reference\n",
      "Prediction 0 1\n",
      "         0 5 0\n",
      "         1 1 3\n",
      "                                          \n",
      "               Accuracy : 0.8889          \n",
      "                 95% CI : (0.5175, 0.9972)\n",
      "    No Information Rate : 0.6667          \n",
      "    P-Value [Acc > NIR] : 0.1431          \n",
      "                                          \n",
      "                  Kappa : 0.7692          \n",
      "                                          \n",
      " Mcnemar's Test P-Value : 1.0000          \n",
      "                                          \n",
      "            Sensitivity : 0.8333          \n",
      "            Specificity : 1.0000          \n",
      "         Pos Pred Value : 1.0000          \n",
      "         Neg Pred Value : 0.7500          \n",
      "             Prevalence : 0.6667          \n",
      "         Detection Rate : 0.5556          \n",
      "   Detection Prevalence : 0.5556          \n",
      "      Balanced Accuracy : 0.9167          \n",
      "                                          \n",
      "       'Positive' Class : 0               \n",
      "                                          \n",
      "Processing App: org.mozilla.firefox \n",
      "Confusion Matrix and Statistics\n",
      "\n",
      "          Reference\n",
      "Prediction 0 1\n",
      "         0 9 1\n",
      "         1 1 5\n",
      "                                          \n",
      "               Accuracy : 0.875           \n",
      "                 95% CI : (0.6165, 0.9845)\n",
      "    No Information Rate : 0.625           \n",
      "    P-Value [Acc > NIR] : 0.02917         \n",
      "                                          \n",
      "                  Kappa : 0.7333          \n",
      "                                          \n",
      " Mcnemar's Test P-Value : 1.00000         \n",
      "                                          \n",
      "            Sensitivity : 0.9000          \n",
      "            Specificity : 0.8333          \n",
      "         Pos Pred Value : 0.9000          \n",
      "         Neg Pred Value : 0.8333          \n",
      "             Prevalence : 0.6250          \n",
      "         Detection Rate : 0.5625          \n",
      "   Detection Prevalence : 0.6250          \n",
      "      Balanced Accuracy : 0.8667          \n",
      "                                          \n",
      "       'Positive' Class : 0               \n",
      "                                          \n",
      "Processing App: com.hamropatro \n",
      "Confusion Matrix and Statistics\n",
      "\n",
      "          Reference\n",
      "Prediction  0  1\n",
      "         0  0  1\n",
      "         1  0 13\n",
      "                                          \n",
      "               Accuracy : 0.9286          \n",
      "                 95% CI : (0.6613, 0.9982)\n",
      "    No Information Rate : 1               \n",
      "    P-Value [Acc > NIR] : 1               \n",
      "                                          \n",
      "                  Kappa : 0               \n",
      "                                          \n",
      " Mcnemar's Test P-Value : 1               \n",
      "                                          \n",
      "            Sensitivity :      NA         \n",
      "            Specificity : 0.92857         \n",
      "         Pos Pred Value :      NA         \n",
      "         Neg Pred Value :      NA         \n",
      "             Prevalence : 0.00000         \n",
      "         Detection Rate : 0.00000         \n",
      "   Detection Prevalence : 0.07143         \n",
      "      Balanced Accuracy :      NA         \n",
      "                                          \n",
      "       'Positive' Class : 0               \n",
      "                                          \n",
      "Processing App: com.rovio.angrybirds \n",
      "Confusion Matrix and Statistics\n",
      "\n",
      "          Reference\n",
      "Prediction 0 1\n",
      "         0 4 0\n",
      "         1 2 8\n",
      "                                          \n",
      "               Accuracy : 0.8571          \n",
      "                 95% CI : (0.5719, 0.9822)\n",
      "    No Information Rate : 0.5714          \n",
      "    P-Value [Acc > NIR] : 0.02481         \n",
      "                                          \n",
      "                  Kappa : 0.6957          \n",
      "                                          \n",
      " Mcnemar's Test P-Value : 0.47950         \n",
      "                                          \n",
      "            Sensitivity : 0.6667          \n",
      "            Specificity : 1.0000          \n",
      "         Pos Pred Value : 1.0000          \n",
      "         Neg Pred Value : 0.8000          \n",
      "             Prevalence : 0.4286          \n",
      "         Detection Rate : 0.2857          \n",
      "   Detection Prevalence : 0.2857          \n",
      "      Balanced Accuracy : 0.8333          \n",
      "                                          \n",
      "       'Positive' Class : 0               \n",
      "                                          \n"
     ]
    }
   ],
   "source": [
    "unique_apps <- unique(data.test$package_name)\n",
    "\n",
    "for (app_name in unique_apps) {\n",
    "  \n",
    "  cat(\"Processing App:\", app_name, \"\\n\")\n",
    "  \n",
    "  app_rows <- which(data.test$package_name == app_name)\n",
    "\n",
    "  print(confusionMatrix(sms_test.predicted2[app_rows], data.test$polarity[app_rows]))\n",
    "\n",
    "\n",
    "}"
   ]
  },
  {
   "cell_type": "markdown",
   "id": "41ed75da",
   "metadata": {},
   "source": [
    "Como podemos observar, hay algunas apps en especial que no somos capaces de diferenciar entre reviews, pero en la gran mayoria de estas, la accuracy sobrepasa el 90%.\n",
    "\n",
    "De hecho, si inspeccionamos los que estan por debajo del modelo original (sin diferenciar entre apps), vemos como tienen una característica en común: son buscadores web (jabanaki.todo.todoly, com.uc.browser.en, com.opera.mini.native). Con esta información y la observada, vamos a sacar una serie de conclusiones:"
   ]
  },
  {
   "cell_type": "markdown",
   "id": "54a6dd3c",
   "metadata": {},
   "source": [
    "## 4. Conclusiones y vías abiertas"
   ]
  },
  {
   "cell_type": "markdown",
   "id": "b6b490cd",
   "metadata": {},
   "source": [
    "Hemos logrado un modelo clasificador de Naive Bayes con un 83% de Accuracy, prèviamente reflexionado sobre lo que implica dicho pocentaje. Aun así, recordar que las clases de nuestra variable objetivo presentan un desbalanceo de instancias (65/35). Dicho balanceo puede llevar a un rendimiento deficiente del clasificador Bayesiano, especialmente en la clasificación de la clase minoritaria (reviews neutras). En comparación con algunos otros algoritmos de clasificación, como los basados en árboles de decisión o las máquinas de vectores de soporte (SVM), los modelos de Naive Bayes pueden ser relativamente robustos al desbalanceo de clases, pero aún pueden ser sensibles a él en términos de la precisión de la clase minoritaria y la estimación de la probabilidad.\n",
    "\n",
    "Es por ello que la precisión del modelo se ve afectada por dicho desbalanceo. Una posible solución sería la generación sintética de datos (compleja, dado que son reviews, es decir, texto) o forzar el balanceo de instancias entre clases.\n",
    "\n",
    "Otro aspecto a comentar es la limpieza del corpus unida con las distintas apps presentes en el dataset. Si bien la limpieza del corpus se ha hecho para un genérico (texto de reviews), se podria considerar hacer un corpus por cada tipo de app (juegos, browsers, apps para cámara, social networks...). Dicha diferenciación nos puede ayudar a no solo hacer una limpieza más personalizada de las reviews (entre reviews del mismo tipo de app podemos asumir que se darán reviews similares a nivel de palabras clave), sino que nos puede ayudar a identificar reviews más complejas, para las cuales se necesitaría un procesado más intenso (reviews que no se ajusta a la app que están valorando, reviews con muchas faltas de ortografia,...).\n",
    "\n",
    "Además, hemos hecho un pequeño teaser de lo que sería dividir la predicción por tipo de app, y hemos visto claramente que el modelo se ajustaba mejor a un tipo de review (el mejor ajuste lo encontramos en las reviwes de juegos) en comparación con otro tipo hecho en una app distinta (los web browsers). Esto puede ser porque, como venimos diciendo, las reviews de los juegos se ajustan más a la limpieza del corpus hecha con anterioridad.\n",
    "\n",
    "Por lo que concierne a las vías abiertas, las hemos ido comentando:\n",
    "\n",
    "- Limpieza del corpus específica para cada tipo de app (por ende, cada tipo de review).\n",
    "- Generar una tercera clase en polarity, para que el modelo tenga más sentido una vez implementado (0 - neutra; 1 - positiva; 2 - negativa). De esta forma, podemos filtrar por reviews negativas en un instante y procesar las quejas de los usuarios, para así mejorar nuestra app."
   ]
  }
 ],
 "metadata": {
  "kernelspec": {
   "display_name": "R",
   "language": "R",
   "name": "ir"
  },
  "language_info": {
   "codemirror_mode": "r",
   "file_extension": ".r",
   "mimetype": "text/x-r-source",
   "name": "R",
   "pygments_lexer": "r",
   "version": "3.6.1"
  }
 },
 "nbformat": 4,
 "nbformat_minor": 5
}
